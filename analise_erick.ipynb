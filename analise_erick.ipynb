{
  "nbformat": 4,
  "nbformat_minor": 0,
  "metadata": {
    "colab": {
      "provenance": []
    },
    "kernelspec": {
      "name": "python3",
      "display_name": "Python 3"
    },
    "language_info": {
      "name": "python"
    }
  },
  "cells": [
    {
      "cell_type": "code",
      "execution_count": null,
      "metadata": {
        "colab": {
          "base_uri": "https://localhost:8080/",
          "height": 34
        },
        "id": "91IQGiMsjtEg",
        "outputId": "46e83497-1d5c-4f2f-ba96-eb0ad7ec09dd"
      },
      "outputs": [
        {
          "output_type": "stream",
          "name": "stdout",
          "text": [
            "['dados_clube_emprestimo.csv']\n"
          ]
        },
        {
          "output_type": "display_data",
          "data": {
            "text/html": [
              "        <script type=\"text/javascript\">\n",
              "        window.PlotlyConfig = {MathJaxConfig: 'local'};\n",
              "        if (window.MathJax && window.MathJax.Hub && window.MathJax.Hub.Config) {window.MathJax.Hub.Config({SVG: {font: \"STIX-Web\"}});}\n",
              "        if (typeof require !== 'undefined') {\n",
              "        require.undef(\"plotly\");\n",
              "        requirejs.config({\n",
              "            paths: {\n",
              "                'plotly': ['https://cdn.plot.ly/plotly-2.24.1.min']\n",
              "            }\n",
              "        });\n",
              "        require(['plotly'], function(Plotly) {\n",
              "            window._Plotly = Plotly;\n",
              "        });\n",
              "        }\n",
              "        </script>\n",
              "        "
            ]
          },
          "metadata": {}
        },
        {
          "output_type": "display_data",
          "data": {
            "text/html": [
              "        <script type=\"text/javascript\">\n",
              "        window.PlotlyConfig = {MathJaxConfig: 'local'};\n",
              "        if (window.MathJax && window.MathJax.Hub && window.MathJax.Hub.Config) {window.MathJax.Hub.Config({SVG: {font: \"STIX-Web\"}});}\n",
              "        if (typeof require !== 'undefined') {\n",
              "        require.undef(\"plotly\");\n",
              "        requirejs.config({\n",
              "            paths: {\n",
              "                'plotly': ['https://cdn.plot.ly/plotly-2.24.1.min']\n",
              "            }\n",
              "        });\n",
              "        require(['plotly'], function(Plotly) {\n",
              "            window._Plotly = Plotly;\n",
              "        });\n",
              "        }\n",
              "        </script>\n",
              "        "
            ]
          },
          "metadata": {}
        }
      ],
      "source": [
        "import numpy as np\n",
        "import polars as pl\n",
        "import os\n",
        "print(os.listdir(\"/content/dados_empréstimo\"))\n",
        "import matplotlib.pyplot as plt\n",
        "import seaborn as sns\n",
        "#o %matplotlib inline fala para o notebook gerar os gráficos diretamente dentro do notebook\n",
        "%matplotlib inline\n",
        "\n",
        "from plotly import __version__\n",
        "from plotly.offline import download_plotlyjs, init_notebook_mode, plot, iplot\n",
        "\n",
        "import cufflinks as cf\n",
        "init_notebook_mode(connected=True)\n",
        "cf.go_offline()"
      ]
    },
    {
      "cell_type": "code",
      "source": [
        "df = pl.read_csv('/content/dados_empréstimo/dados_clube_emprestimo.csv')"
      ],
      "metadata": {
        "id": "3ifjkohOmTWV"
      },
      "execution_count": null,
      "outputs": []
    },
    {
      "cell_type": "code",
      "source": [
        "#Teste com pandas para comparar os valores\n",
        "# import pandas as pd\n",
        "# emprestimo = pd.read_csv('/content/dados_empréstimo/dados_clube_emprestimo.csv')\n",
        "# emprestimo.nsmallest(5, 'int.rate')"
      ],
      "metadata": {
        "colab": {
          "base_uri": "https://localhost:8080/",
          "height": 206
        },
        "id": "a4SZzUVuofEI",
        "outputId": "34bc9c09-d04c-4594-ecb4-9092815daa97"
      },
      "execution_count": null,
      "outputs": [
        {
          "output_type": "execute_result",
          "data": {
            "text/plain": [
              "      credit.policy             purpose  int.rate  installment  \\\n",
              "453               1  debt_consolidation      0.06       467.45   \n",
              "1031              1         credit_card      0.06       231.03   \n",
              "1400              1  debt_consolidation      0.06       216.38   \n",
              "1796              1         credit_card      0.06       194.70   \n",
              "2738              1         educational      0.06        91.27   \n",
              "\n",
              "      log.annual.inc    dti  fico  days.with.cr.line  revol.bal  revol.util  \\\n",
              "453        11.042922  15.28   687        4652.041667      26044        34.5   \n",
              "1031       11.184421  14.07   672        2910.000000      15885        46.9   \n",
              "1400       10.239960  12.09   667        2550.000000      14320        67.5   \n",
              "1796       10.434116  17.12   742        2430.041667       7005        40.0   \n",
              "2738        9.793449   5.69   727        4320.000000        859        10.7   \n",
              "\n",
              "      inq.last.6mths  delinq.2yrs  pub.rec  not.fully.paid  \n",
              "453                3            0        0               0  \n",
              "1031               1            1        0               0  \n",
              "1400               1            0        0               0  \n",
              "1796               0            0        0               0  \n",
              "2738               0            0        0               0  "
            ],
            "text/html": [
              "\n",
              "  <div id=\"df-e622d6e7-964d-42eb-ba4a-68beab6df527\" class=\"colab-df-container\">\n",
              "    <div>\n",
              "<style scoped>\n",
              "    .dataframe tbody tr th:only-of-type {\n",
              "        vertical-align: middle;\n",
              "    }\n",
              "\n",
              "    .dataframe tbody tr th {\n",
              "        vertical-align: top;\n",
              "    }\n",
              "\n",
              "    .dataframe thead th {\n",
              "        text-align: right;\n",
              "    }\n",
              "</style>\n",
              "<table border=\"1\" class=\"dataframe\">\n",
              "  <thead>\n",
              "    <tr style=\"text-align: right;\">\n",
              "      <th></th>\n",
              "      <th>credit.policy</th>\n",
              "      <th>purpose</th>\n",
              "      <th>int.rate</th>\n",
              "      <th>installment</th>\n",
              "      <th>log.annual.inc</th>\n",
              "      <th>dti</th>\n",
              "      <th>fico</th>\n",
              "      <th>days.with.cr.line</th>\n",
              "      <th>revol.bal</th>\n",
              "      <th>revol.util</th>\n",
              "      <th>inq.last.6mths</th>\n",
              "      <th>delinq.2yrs</th>\n",
              "      <th>pub.rec</th>\n",
              "      <th>not.fully.paid</th>\n",
              "    </tr>\n",
              "  </thead>\n",
              "  <tbody>\n",
              "    <tr>\n",
              "      <th>453</th>\n",
              "      <td>1</td>\n",
              "      <td>debt_consolidation</td>\n",
              "      <td>0.06</td>\n",
              "      <td>467.45</td>\n",
              "      <td>11.042922</td>\n",
              "      <td>15.28</td>\n",
              "      <td>687</td>\n",
              "      <td>4652.041667</td>\n",
              "      <td>26044</td>\n",
              "      <td>34.5</td>\n",
              "      <td>3</td>\n",
              "      <td>0</td>\n",
              "      <td>0</td>\n",
              "      <td>0</td>\n",
              "    </tr>\n",
              "    <tr>\n",
              "      <th>1031</th>\n",
              "      <td>1</td>\n",
              "      <td>credit_card</td>\n",
              "      <td>0.06</td>\n",
              "      <td>231.03</td>\n",
              "      <td>11.184421</td>\n",
              "      <td>14.07</td>\n",
              "      <td>672</td>\n",
              "      <td>2910.000000</td>\n",
              "      <td>15885</td>\n",
              "      <td>46.9</td>\n",
              "      <td>1</td>\n",
              "      <td>1</td>\n",
              "      <td>0</td>\n",
              "      <td>0</td>\n",
              "    </tr>\n",
              "    <tr>\n",
              "      <th>1400</th>\n",
              "      <td>1</td>\n",
              "      <td>debt_consolidation</td>\n",
              "      <td>0.06</td>\n",
              "      <td>216.38</td>\n",
              "      <td>10.239960</td>\n",
              "      <td>12.09</td>\n",
              "      <td>667</td>\n",
              "      <td>2550.000000</td>\n",
              "      <td>14320</td>\n",
              "      <td>67.5</td>\n",
              "      <td>1</td>\n",
              "      <td>0</td>\n",
              "      <td>0</td>\n",
              "      <td>0</td>\n",
              "    </tr>\n",
              "    <tr>\n",
              "      <th>1796</th>\n",
              "      <td>1</td>\n",
              "      <td>credit_card</td>\n",
              "      <td>0.06</td>\n",
              "      <td>194.70</td>\n",
              "      <td>10.434116</td>\n",
              "      <td>17.12</td>\n",
              "      <td>742</td>\n",
              "      <td>2430.041667</td>\n",
              "      <td>7005</td>\n",
              "      <td>40.0</td>\n",
              "      <td>0</td>\n",
              "      <td>0</td>\n",
              "      <td>0</td>\n",
              "      <td>0</td>\n",
              "    </tr>\n",
              "    <tr>\n",
              "      <th>2738</th>\n",
              "      <td>1</td>\n",
              "      <td>educational</td>\n",
              "      <td>0.06</td>\n",
              "      <td>91.27</td>\n",
              "      <td>9.793449</td>\n",
              "      <td>5.69</td>\n",
              "      <td>727</td>\n",
              "      <td>4320.000000</td>\n",
              "      <td>859</td>\n",
              "      <td>10.7</td>\n",
              "      <td>0</td>\n",
              "      <td>0</td>\n",
              "      <td>0</td>\n",
              "      <td>0</td>\n",
              "    </tr>\n",
              "  </tbody>\n",
              "</table>\n",
              "</div>\n",
              "    <div class=\"colab-df-buttons\">\n",
              "\n",
              "  <div class=\"colab-df-container\">\n",
              "    <button class=\"colab-df-convert\" onclick=\"convertToInteractive('df-e622d6e7-964d-42eb-ba4a-68beab6df527')\"\n",
              "            title=\"Convert this dataframe to an interactive table.\"\n",
              "            style=\"display:none;\">\n",
              "\n",
              "  <svg xmlns=\"http://www.w3.org/2000/svg\" height=\"24px\" viewBox=\"0 -960 960 960\">\n",
              "    <path d=\"M120-120v-720h720v720H120Zm60-500h600v-160H180v160Zm220 220h160v-160H400v160Zm0 220h160v-160H400v160ZM180-400h160v-160H180v160Zm440 0h160v-160H620v160ZM180-180h160v-160H180v160Zm440 0h160v-160H620v160Z\"/>\n",
              "  </svg>\n",
              "    </button>\n",
              "\n",
              "  <style>\n",
              "    .colab-df-container {\n",
              "      display:flex;\n",
              "      gap: 12px;\n",
              "    }\n",
              "\n",
              "    .colab-df-convert {\n",
              "      background-color: #E8F0FE;\n",
              "      border: none;\n",
              "      border-radius: 50%;\n",
              "      cursor: pointer;\n",
              "      display: none;\n",
              "      fill: #1967D2;\n",
              "      height: 32px;\n",
              "      padding: 0 0 0 0;\n",
              "      width: 32px;\n",
              "    }\n",
              "\n",
              "    .colab-df-convert:hover {\n",
              "      background-color: #E2EBFA;\n",
              "      box-shadow: 0px 1px 2px rgba(60, 64, 67, 0.3), 0px 1px 3px 1px rgba(60, 64, 67, 0.15);\n",
              "      fill: #174EA6;\n",
              "    }\n",
              "\n",
              "    .colab-df-buttons div {\n",
              "      margin-bottom: 4px;\n",
              "    }\n",
              "\n",
              "    [theme=dark] .colab-df-convert {\n",
              "      background-color: #3B4455;\n",
              "      fill: #D2E3FC;\n",
              "    }\n",
              "\n",
              "    [theme=dark] .colab-df-convert:hover {\n",
              "      background-color: #434B5C;\n",
              "      box-shadow: 0px 1px 3px 1px rgba(0, 0, 0, 0.15);\n",
              "      filter: drop-shadow(0px 1px 2px rgba(0, 0, 0, 0.3));\n",
              "      fill: #FFFFFF;\n",
              "    }\n",
              "  </style>\n",
              "\n",
              "    <script>\n",
              "      const buttonEl =\n",
              "        document.querySelector('#df-e622d6e7-964d-42eb-ba4a-68beab6df527 button.colab-df-convert');\n",
              "      buttonEl.style.display =\n",
              "        google.colab.kernel.accessAllowed ? 'block' : 'none';\n",
              "\n",
              "      async function convertToInteractive(key) {\n",
              "        const element = document.querySelector('#df-e622d6e7-964d-42eb-ba4a-68beab6df527');\n",
              "        const dataTable =\n",
              "          await google.colab.kernel.invokeFunction('convertToInteractive',\n",
              "                                                    [key], {});\n",
              "        if (!dataTable) return;\n",
              "\n",
              "        const docLinkHtml = 'Like what you see? Visit the ' +\n",
              "          '<a target=\"_blank\" href=https://colab.research.google.com/notebooks/data_table.ipynb>data table notebook</a>'\n",
              "          + ' to learn more about interactive tables.';\n",
              "        element.innerHTML = '';\n",
              "        dataTable['output_type'] = 'display_data';\n",
              "        await google.colab.output.renderOutput(dataTable, element);\n",
              "        const docLink = document.createElement('div');\n",
              "        docLink.innerHTML = docLinkHtml;\n",
              "        element.appendChild(docLink);\n",
              "      }\n",
              "    </script>\n",
              "  </div>\n",
              "\n",
              "\n",
              "<div id=\"df-7c009047-385f-4f7e-8d74-565f4931d0b8\">\n",
              "  <button class=\"colab-df-quickchart\" onclick=\"quickchart('df-7c009047-385f-4f7e-8d74-565f4931d0b8')\"\n",
              "            title=\"Suggest charts\"\n",
              "            style=\"display:none;\">\n",
              "\n",
              "<svg xmlns=\"http://www.w3.org/2000/svg\" height=\"24px\"viewBox=\"0 0 24 24\"\n",
              "     width=\"24px\">\n",
              "    <g>\n",
              "        <path d=\"M19 3H5c-1.1 0-2 .9-2 2v14c0 1.1.9 2 2 2h14c1.1 0 2-.9 2-2V5c0-1.1-.9-2-2-2zM9 17H7v-7h2v7zm4 0h-2V7h2v10zm4 0h-2v-4h2v4z\"/>\n",
              "    </g>\n",
              "</svg>\n",
              "  </button>\n",
              "\n",
              "<style>\n",
              "  .colab-df-quickchart {\n",
              "      --bg-color: #E8F0FE;\n",
              "      --fill-color: #1967D2;\n",
              "      --hover-bg-color: #E2EBFA;\n",
              "      --hover-fill-color: #174EA6;\n",
              "      --disabled-fill-color: #AAA;\n",
              "      --disabled-bg-color: #DDD;\n",
              "  }\n",
              "\n",
              "  [theme=dark] .colab-df-quickchart {\n",
              "      --bg-color: #3B4455;\n",
              "      --fill-color: #D2E3FC;\n",
              "      --hover-bg-color: #434B5C;\n",
              "      --hover-fill-color: #FFFFFF;\n",
              "      --disabled-bg-color: #3B4455;\n",
              "      --disabled-fill-color: #666;\n",
              "  }\n",
              "\n",
              "  .colab-df-quickchart {\n",
              "    background-color: var(--bg-color);\n",
              "    border: none;\n",
              "    border-radius: 50%;\n",
              "    cursor: pointer;\n",
              "    display: none;\n",
              "    fill: var(--fill-color);\n",
              "    height: 32px;\n",
              "    padding: 0;\n",
              "    width: 32px;\n",
              "  }\n",
              "\n",
              "  .colab-df-quickchart:hover {\n",
              "    background-color: var(--hover-bg-color);\n",
              "    box-shadow: 0 1px 2px rgba(60, 64, 67, 0.3), 0 1px 3px 1px rgba(60, 64, 67, 0.15);\n",
              "    fill: var(--button-hover-fill-color);\n",
              "  }\n",
              "\n",
              "  .colab-df-quickchart-complete:disabled,\n",
              "  .colab-df-quickchart-complete:disabled:hover {\n",
              "    background-color: var(--disabled-bg-color);\n",
              "    fill: var(--disabled-fill-color);\n",
              "    box-shadow: none;\n",
              "  }\n",
              "\n",
              "  .colab-df-spinner {\n",
              "    border: 2px solid var(--fill-color);\n",
              "    border-color: transparent;\n",
              "    border-bottom-color: var(--fill-color);\n",
              "    animation:\n",
              "      spin 1s steps(1) infinite;\n",
              "  }\n",
              "\n",
              "  @keyframes spin {\n",
              "    0% {\n",
              "      border-color: transparent;\n",
              "      border-bottom-color: var(--fill-color);\n",
              "      border-left-color: var(--fill-color);\n",
              "    }\n",
              "    20% {\n",
              "      border-color: transparent;\n",
              "      border-left-color: var(--fill-color);\n",
              "      border-top-color: var(--fill-color);\n",
              "    }\n",
              "    30% {\n",
              "      border-color: transparent;\n",
              "      border-left-color: var(--fill-color);\n",
              "      border-top-color: var(--fill-color);\n",
              "      border-right-color: var(--fill-color);\n",
              "    }\n",
              "    40% {\n",
              "      border-color: transparent;\n",
              "      border-right-color: var(--fill-color);\n",
              "      border-top-color: var(--fill-color);\n",
              "    }\n",
              "    60% {\n",
              "      border-color: transparent;\n",
              "      border-right-color: var(--fill-color);\n",
              "    }\n",
              "    80% {\n",
              "      border-color: transparent;\n",
              "      border-right-color: var(--fill-color);\n",
              "      border-bottom-color: var(--fill-color);\n",
              "    }\n",
              "    90% {\n",
              "      border-color: transparent;\n",
              "      border-bottom-color: var(--fill-color);\n",
              "    }\n",
              "  }\n",
              "</style>\n",
              "\n",
              "  <script>\n",
              "    async function quickchart(key) {\n",
              "      const quickchartButtonEl =\n",
              "        document.querySelector('#' + key + ' button');\n",
              "      quickchartButtonEl.disabled = true;  // To prevent multiple clicks.\n",
              "      quickchartButtonEl.classList.add('colab-df-spinner');\n",
              "      try {\n",
              "        const charts = await google.colab.kernel.invokeFunction(\n",
              "            'suggestCharts', [key], {});\n",
              "      } catch (error) {\n",
              "        console.error('Error during call to suggestCharts:', error);\n",
              "      }\n",
              "      quickchartButtonEl.classList.remove('colab-df-spinner');\n",
              "      quickchartButtonEl.classList.add('colab-df-quickchart-complete');\n",
              "    }\n",
              "    (() => {\n",
              "      let quickchartButtonEl =\n",
              "        document.querySelector('#df-7c009047-385f-4f7e-8d74-565f4931d0b8 button');\n",
              "      quickchartButtonEl.style.display =\n",
              "        google.colab.kernel.accessAllowed ? 'block' : 'none';\n",
              "    })();\n",
              "  </script>\n",
              "</div>\n",
              "\n",
              "    </div>\n",
              "  </div>\n"
            ],
            "application/vnd.google.colaboratory.intrinsic+json": {
              "type": "dataframe",
              "summary": "{\n  \"name\": \"emprestimo\",\n  \"rows\": 5,\n  \"fields\": [\n    {\n      \"column\": \"credit.policy\",\n      \"properties\": {\n        \"dtype\": \"number\",\n        \"std\": 0,\n        \"min\": 1,\n        \"max\": 1,\n        \"num_unique_values\": 1,\n        \"samples\": [\n          1\n        ],\n        \"semantic_type\": \"\",\n        \"description\": \"\"\n      }\n    },\n    {\n      \"column\": \"purpose\",\n      \"properties\": {\n        \"dtype\": \"string\",\n        \"num_unique_values\": 3,\n        \"samples\": [\n          \"debt_consolidation\"\n        ],\n        \"semantic_type\": \"\",\n        \"description\": \"\"\n      }\n    },\n    {\n      \"column\": \"int.rate\",\n      \"properties\": {\n        \"dtype\": \"number\",\n        \"std\": 0.0,\n        \"min\": 0.06,\n        \"max\": 0.06,\n        \"num_unique_values\": 1,\n        \"samples\": [\n          0.06\n        ],\n        \"semantic_type\": \"\",\n        \"description\": \"\"\n      }\n    },\n    {\n      \"column\": \"installment\",\n      \"properties\": {\n        \"dtype\": \"number\",\n        \"std\": 138.33332291967832,\n        \"min\": 91.27,\n        \"max\": 467.45,\n        \"num_unique_values\": 5,\n        \"samples\": [\n          231.03\n        ],\n        \"semantic_type\": \"\",\n        \"description\": \"\"\n      }\n    },\n    {\n      \"column\": \"log.annual.inc\",\n      \"properties\": {\n        \"dtype\": \"number\",\n        \"std\": 0.5759291125264125,\n        \"min\": 9.793449447,\n        \"max\": 11.1844214,\n        \"num_unique_values\": 5,\n        \"samples\": [\n          11.1844214\n        ],\n        \"semantic_type\": \"\",\n        \"description\": \"\"\n      }\n    },\n    {\n      \"column\": \"dti\",\n      \"properties\": {\n        \"dtype\": \"number\",\n        \"std\": 4.400835148014522,\n        \"min\": 5.69,\n        \"max\": 17.12,\n        \"num_unique_values\": 5,\n        \"samples\": [\n          14.07\n        ],\n        \"semantic_type\": \"\",\n        \"description\": \"\"\n      }\n    },\n    {\n      \"column\": \"fico\",\n      \"properties\": {\n        \"dtype\": \"number\",\n        \"std\": 33,\n        \"min\": 667,\n        \"max\": 742,\n        \"num_unique_values\": 5,\n        \"samples\": [\n          672\n        ],\n        \"semantic_type\": \"\",\n        \"description\": \"\"\n      }\n    },\n    {\n      \"column\": \"days.with.cr.line\",\n      \"properties\": {\n        \"dtype\": \"number\",\n        \"std\": 1038.4632037665283,\n        \"min\": 2430.041667,\n        \"max\": 4652.041667,\n        \"num_unique_values\": 5,\n        \"samples\": [\n          2910.0\n        ],\n        \"semantic_type\": \"\",\n        \"description\": \"\"\n      }\n    },\n    {\n      \"column\": \"revol.bal\",\n      \"properties\": {\n        \"dtype\": \"number\",\n        \"std\": 9531,\n        \"min\": 859,\n        \"max\": 26044,\n        \"num_unique_values\": 5,\n        \"samples\": [\n          15885\n        ],\n        \"semantic_type\": \"\",\n        \"description\": \"\"\n      }\n    },\n    {\n      \"column\": \"revol.util\",\n      \"properties\": {\n        \"dtype\": \"number\",\n        \"std\": 20.57041564966542,\n        \"min\": 10.7,\n        \"max\": 67.5,\n        \"num_unique_values\": 5,\n        \"samples\": [\n          46.9\n        ],\n        \"semantic_type\": \"\",\n        \"description\": \"\"\n      }\n    },\n    {\n      \"column\": \"inq.last.6mths\",\n      \"properties\": {\n        \"dtype\": \"number\",\n        \"std\": 1,\n        \"min\": 0,\n        \"max\": 3,\n        \"num_unique_values\": 3,\n        \"samples\": [\n          3\n        ],\n        \"semantic_type\": \"\",\n        \"description\": \"\"\n      }\n    },\n    {\n      \"column\": \"delinq.2yrs\",\n      \"properties\": {\n        \"dtype\": \"number\",\n        \"std\": 0,\n        \"min\": 0,\n        \"max\": 1,\n        \"num_unique_values\": 2,\n        \"samples\": [\n          1\n        ],\n        \"semantic_type\": \"\",\n        \"description\": \"\"\n      }\n    },\n    {\n      \"column\": \"pub.rec\",\n      \"properties\": {\n        \"dtype\": \"number\",\n        \"std\": 0,\n        \"min\": 0,\n        \"max\": 0,\n        \"num_unique_values\": 1,\n        \"samples\": [\n          0\n        ],\n        \"semantic_type\": \"\",\n        \"description\": \"\"\n      }\n    },\n    {\n      \"column\": \"not.fully.paid\",\n      \"properties\": {\n        \"dtype\": \"number\",\n        \"std\": 0,\n        \"min\": 0,\n        \"max\": 0,\n        \"num_unique_values\": 1,\n        \"samples\": [\n          0\n        ],\n        \"semantic_type\": \"\",\n        \"description\": \"\"\n      }\n    }\n  ]\n}"
            }
          },
          "metadata": {},
          "execution_count": 4
        }
      ]
    },
    {
      "cell_type": "code",
      "source": [
        "df.sort(by='int.rate').head(5)"
      ],
      "metadata": {
        "colab": {
          "base_uri": "https://localhost:8080/",
          "height": 255
        },
        "id": "wM7O8ylQnRlh",
        "outputId": "44c28ea2-331c-4832-ac31-e504a1c2d11b"
      },
      "execution_count": null,
      "outputs": [
        {
          "output_type": "execute_result",
          "data": {
            "text/plain": [
              "shape: (5, 14)\n",
              "┌────────────┬────────────┬──────────┬───────────┬───┬───────────┬───────────┬─────────┬───────────┐\n",
              "│ credit.pol ┆ purpose    ┆ int.rate ┆ installme ┆ … ┆ inq.last. ┆ delinq.2y ┆ pub.rec ┆ not.fully │\n",
              "│ icy        ┆ ---        ┆ ---      ┆ nt        ┆   ┆ 6mths     ┆ rs        ┆ ---     ┆ .paid     │\n",
              "│ ---        ┆ str        ┆ f64      ┆ ---       ┆   ┆ ---       ┆ ---       ┆ i64     ┆ ---       │\n",
              "│ i64        ┆            ┆          ┆ f64       ┆   ┆ i64       ┆ i64       ┆         ┆ i64       │\n",
              "╞════════════╪════════════╪══════════╪═══════════╪═══╪═══════════╪═══════════╪═════════╪═══════════╡\n",
              "│ 1          ┆ debt_conso ┆ 0.06     ┆ 467.45    ┆ … ┆ 3         ┆ 0         ┆ 0       ┆ 0         │\n",
              "│            ┆ lidation   ┆          ┆           ┆   ┆           ┆           ┆         ┆           │\n",
              "│ 1          ┆ credit_car ┆ 0.06     ┆ 231.03    ┆ … ┆ 1         ┆ 1         ┆ 0       ┆ 0         │\n",
              "│            ┆ d          ┆          ┆           ┆   ┆           ┆           ┆         ┆           │\n",
              "│ 1          ┆ debt_conso ┆ 0.06     ┆ 216.38    ┆ … ┆ 1         ┆ 0         ┆ 0       ┆ 0         │\n",
              "│            ┆ lidation   ┆          ┆           ┆   ┆           ┆           ┆         ┆           │\n",
              "│ 1          ┆ credit_car ┆ 0.06     ┆ 194.7     ┆ … ┆ 0         ┆ 0         ┆ 0       ┆ 0         │\n",
              "│            ┆ d          ┆          ┆           ┆   ┆           ┆           ┆         ┆           │\n",
              "│ 1          ┆ educationa ┆ 0.06     ┆ 91.27     ┆ … ┆ 0         ┆ 0         ┆ 0       ┆ 0         │\n",
              "│            ┆ l          ┆          ┆           ┆   ┆           ┆           ┆         ┆           │\n",
              "└────────────┴────────────┴──────────┴───────────┴───┴───────────┴───────────┴─────────┴───────────┘"
            ],
            "text/html": [
              "<div><style>\n",
              ".dataframe > thead > tr,\n",
              ".dataframe > tbody > tr {\n",
              "  text-align: right;\n",
              "  white-space: pre-wrap;\n",
              "}\n",
              "</style>\n",
              "<small>shape: (5, 14)</small><table border=\"1\" class=\"dataframe\"><thead><tr><th>credit.policy</th><th>purpose</th><th>int.rate</th><th>installment</th><th>log.annual.inc</th><th>dti</th><th>fico</th><th>days.with.cr.line</th><th>revol.bal</th><th>revol.util</th><th>inq.last.6mths</th><th>delinq.2yrs</th><th>pub.rec</th><th>not.fully.paid</th></tr><tr><td>i64</td><td>str</td><td>f64</td><td>f64</td><td>f64</td><td>f64</td><td>i64</td><td>f64</td><td>i64</td><td>f64</td><td>i64</td><td>i64</td><td>i64</td><td>i64</td></tr></thead><tbody><tr><td>1</td><td>&quot;debt_consolida…</td><td>0.06</td><td>467.45</td><td>11.042922</td><td>15.28</td><td>687</td><td>4652.041667</td><td>26044</td><td>34.5</td><td>3</td><td>0</td><td>0</td><td>0</td></tr><tr><td>1</td><td>&quot;credit_card&quot;</td><td>0.06</td><td>231.03</td><td>11.184421</td><td>14.07</td><td>672</td><td>2910.0</td><td>15885</td><td>46.9</td><td>1</td><td>1</td><td>0</td><td>0</td></tr><tr><td>1</td><td>&quot;debt_consolida…</td><td>0.06</td><td>216.38</td><td>10.23996</td><td>12.09</td><td>667</td><td>2550.0</td><td>14320</td><td>67.5</td><td>1</td><td>0</td><td>0</td><td>0</td></tr><tr><td>1</td><td>&quot;credit_card&quot;</td><td>0.06</td><td>194.7</td><td>10.434116</td><td>17.12</td><td>742</td><td>2430.041667</td><td>7005</td><td>40.0</td><td>0</td><td>0</td><td>0</td><td>0</td></tr><tr><td>1</td><td>&quot;educational&quot;</td><td>0.06</td><td>91.27</td><td>9.793449</td><td>5.69</td><td>727</td><td>4320.0</td><td>859</td><td>10.7</td><td>0</td><td>0</td><td>0</td><td>0</td></tr></tbody></table></div>"
            ]
          },
          "metadata": {},
          "execution_count": 3
        }
      ]
    },
    {
      "cell_type": "code",
      "source": [
        "#Com o Polars para pegar os valores maiores na coluna int.rate, precisei usar o 'descending' e não o 'reverse'\n",
        "df.sort(by='int.rate', descending=True).head(5)"
      ],
      "metadata": {
        "colab": {
          "base_uri": "https://localhost:8080/",
          "height": 255
        },
        "id": "jKteetQMo98p",
        "outputId": "817e6697-a2cf-4896-a32a-e4b9916df4e4"
      },
      "execution_count": null,
      "outputs": [
        {
          "output_type": "execute_result",
          "data": {
            "text/plain": [
              "shape: (5, 14)\n",
              "┌────────────┬────────────┬──────────┬───────────┬───┬───────────┬───────────┬─────────┬───────────┐\n",
              "│ credit.pol ┆ purpose    ┆ int.rate ┆ installme ┆ … ┆ inq.last. ┆ delinq.2y ┆ pub.rec ┆ not.fully │\n",
              "│ icy        ┆ ---        ┆ ---      ┆ nt        ┆   ┆ 6mths     ┆ rs        ┆ ---     ┆ .paid     │\n",
              "│ ---        ┆ str        ┆ f64      ┆ ---       ┆   ┆ ---       ┆ ---       ┆ i64     ┆ ---       │\n",
              "│ i64        ┆            ┆          ┆ f64       ┆   ┆ i64       ┆ i64       ┆         ┆ i64       │\n",
              "╞════════════╪════════════╪══════════╪═══════════╪═══╪═══════════╪═══════════╪═════════╪═══════════╡\n",
              "│ 0          ┆ home_impro ┆ 0.2164   ┆ 729.7     ┆ … ┆ 9         ┆ 0         ┆ 1       ┆ 1         │\n",
              "│            ┆ vement     ┆          ┆           ┆   ┆           ┆           ┆         ┆           │\n",
              "│ 0          ┆ all_other  ┆ 0.2164   ┆ 551.08    ┆ … ┆ 9         ┆ 0         ┆ 0       ┆ 1         │\n",
              "│ 1          ┆ debt_conso ┆ 0.2121   ┆ 746.24    ┆ … ┆ 1         ┆ 0         ┆ 0       ┆ 1         │\n",
              "│            ┆ lidation   ┆          ┆           ┆   ┆           ┆           ┆         ┆           │\n",
              "│ 1          ┆ small_busi ┆ 0.2121   ┆ 491.2     ┆ … ┆ 1         ┆ 0         ┆ 0       ┆ 0         │\n",
              "│            ┆ ness       ┆          ┆           ┆   ┆           ┆           ┆         ┆           │\n",
              "│ 1          ┆ small_busi ┆ 0.2121   ┆ 755.69    ┆ … ┆ 1         ┆ 0         ┆ 0       ┆ 0         │\n",
              "│            ┆ ness       ┆          ┆           ┆   ┆           ┆           ┆         ┆           │\n",
              "└────────────┴────────────┴──────────┴───────────┴───┴───────────┴───────────┴─────────┴───────────┘"
            ],
            "text/html": [
              "<div><style>\n",
              ".dataframe > thead > tr,\n",
              ".dataframe > tbody > tr {\n",
              "  text-align: right;\n",
              "  white-space: pre-wrap;\n",
              "}\n",
              "</style>\n",
              "<small>shape: (5, 14)</small><table border=\"1\" class=\"dataframe\"><thead><tr><th>credit.policy</th><th>purpose</th><th>int.rate</th><th>installment</th><th>log.annual.inc</th><th>dti</th><th>fico</th><th>days.with.cr.line</th><th>revol.bal</th><th>revol.util</th><th>inq.last.6mths</th><th>delinq.2yrs</th><th>pub.rec</th><th>not.fully.paid</th></tr><tr><td>i64</td><td>str</td><td>f64</td><td>f64</td><td>f64</td><td>f64</td><td>i64</td><td>f64</td><td>i64</td><td>f64</td><td>i64</td><td>i64</td><td>i64</td><td>i64</td></tr></thead><tbody><tr><td>0</td><td>&quot;home_improveme…</td><td>0.2164</td><td>729.7</td><td>11.877569</td><td>8.63</td><td>667</td><td>8280.041667</td><td>55442</td><td>66.9</td><td>9</td><td>0</td><td>1</td><td>1</td></tr><tr><td>0</td><td>&quot;all_other&quot;</td><td>0.2164</td><td>551.08</td><td>11.0021</td><td>24.06</td><td>662</td><td>1800.0</td><td>16441</td><td>49.8</td><td>9</td><td>0</td><td>0</td><td>1</td></tr><tr><td>1</td><td>&quot;debt_consolida…</td><td>0.2121</td><td>746.24</td><td>11.736069</td><td>19.87</td><td>662</td><td>7920.0</td><td>90063</td><td>79.6</td><td>1</td><td>0</td><td>0</td><td>1</td></tr><tr><td>1</td><td>&quot;small_business…</td><td>0.2121</td><td>491.2</td><td>11.957611</td><td>10.45</td><td>667</td><td>3538.0</td><td>14718</td><td>40.4</td><td>1</td><td>0</td><td>0</td><td>0</td></tr><tr><td>1</td><td>&quot;small_business…</td><td>0.2121</td><td>755.69</td><td>11.24896</td><td>5.72</td><td>672</td><td>1440.0</td><td>500</td><td>83.3</td><td>1</td><td>0</td><td>0</td><td>0</td></tr></tbody></table></div>"
            ]
          },
          "metadata": {},
          "execution_count": 4
        }
      ]
    },
    {
      "cell_type": "code",
      "source": [
        "#df.info no polars = df.schema\n",
        "df.schema"
      ],
      "metadata": {
        "colab": {
          "base_uri": "https://localhost:8080/"
        },
        "id": "a1q99Gt9pt9U",
        "outputId": "dae78338-e277-44b5-dc65-64e51e09ac26"
      },
      "execution_count": null,
      "outputs": [
        {
          "output_type": "execute_result",
          "data": {
            "text/plain": [
              "OrderedDict([('credit.policy', Int64),\n",
              "             ('purpose', Utf8),\n",
              "             ('int.rate', Float64),\n",
              "             ('installment', Float64),\n",
              "             ('log.annual.inc', Float64),\n",
              "             ('dti', Float64),\n",
              "             ('fico', Int64),\n",
              "             ('days.with.cr.line', Float64),\n",
              "             ('revol.bal', Int64),\n",
              "             ('revol.util', Float64),\n",
              "             ('inq.last.6mths', Int64),\n",
              "             ('delinq.2yrs', Int64),\n",
              "             ('pub.rec', Int64),\n",
              "             ('not.fully.paid', Int64)])"
            ]
          },
          "metadata": {},
          "execution_count": 5
        }
      ]
    },
    {
      "cell_type": "code",
      "source": [
        "df.describe()"
      ],
      "metadata": {
        "colab": {
          "base_uri": "https://localhost:8080/",
          "height": 400
        },
        "id": "T73ucGe8qFs7",
        "outputId": "249a8a8b-781a-4e18-cc39-d87ab3853a79"
      },
      "execution_count": null,
      "outputs": [
        {
          "output_type": "execute_result",
          "data": {
            "text/plain": [
              "shape: (9, 15)\n",
              "┌────────────┬───────────┬───────────┬──────────┬───┬───────────┬───────────┬──────────┬───────────┐\n",
              "│ describe   ┆ credit.po ┆ purpose   ┆ int.rate ┆ … ┆ inq.last. ┆ delinq.2y ┆ pub.rec  ┆ not.fully │\n",
              "│ ---        ┆ licy      ┆ ---       ┆ ---      ┆   ┆ 6mths     ┆ rs        ┆ ---      ┆ .paid     │\n",
              "│ str        ┆ ---       ┆ str       ┆ f64      ┆   ┆ ---       ┆ ---       ┆ f64      ┆ ---       │\n",
              "│            ┆ f64       ┆           ┆          ┆   ┆ f64       ┆ f64       ┆          ┆ f64       │\n",
              "╞════════════╪═══════════╪═══════════╪══════════╪═══╪═══════════╪═══════════╪══════════╪═══════════╡\n",
              "│ count      ┆ 9578.0    ┆ 9578      ┆ 9578.0   ┆ … ┆ 9578.0    ┆ 9578.0    ┆ 9578.0   ┆ 9578.0    │\n",
              "│ null_count ┆ 0.0       ┆ 0         ┆ 0.0      ┆ … ┆ 0.0       ┆ 0.0       ┆ 0.0      ┆ 0.0       │\n",
              "│ mean       ┆ 0.80497   ┆ null      ┆ 0.12264  ┆ … ┆ 1.577469  ┆ 0.163708  ┆ 0.062122 ┆ 0.160054  │\n",
              "│ std        ┆ 0.396245  ┆ null      ┆ 0.026847 ┆ … ┆ 2.200245  ┆ 0.546215  ┆ 0.262126 ┆ 0.366676  │\n",
              "│ min        ┆ 0.0       ┆ all_other ┆ 0.06     ┆ … ┆ 0.0       ┆ 0.0       ┆ 0.0      ┆ 0.0       │\n",
              "│ 25%        ┆ 1.0       ┆ null      ┆ 0.1039   ┆ … ┆ 0.0       ┆ 0.0       ┆ 0.0      ┆ 0.0       │\n",
              "│ 50%        ┆ 1.0       ┆ null      ┆ 0.1221   ┆ … ┆ 1.0       ┆ 0.0       ┆ 0.0      ┆ 0.0       │\n",
              "│ 75%        ┆ 1.0       ┆ null      ┆ 0.1407   ┆ … ┆ 2.0       ┆ 0.0       ┆ 0.0      ┆ 0.0       │\n",
              "│ max        ┆ 1.0       ┆ small_bus ┆ 0.2164   ┆ … ┆ 33.0      ┆ 13.0      ┆ 5.0      ┆ 1.0       │\n",
              "│            ┆           ┆ iness     ┆          ┆   ┆           ┆           ┆          ┆           │\n",
              "└────────────┴───────────┴───────────┴──────────┴───┴───────────┴───────────┴──────────┴───────────┘"
            ],
            "text/html": [
              "<div><style>\n",
              ".dataframe > thead > tr,\n",
              ".dataframe > tbody > tr {\n",
              "  text-align: right;\n",
              "  white-space: pre-wrap;\n",
              "}\n",
              "</style>\n",
              "<small>shape: (9, 15)</small><table border=\"1\" class=\"dataframe\"><thead><tr><th>describe</th><th>credit.policy</th><th>purpose</th><th>int.rate</th><th>installment</th><th>log.annual.inc</th><th>dti</th><th>fico</th><th>days.with.cr.line</th><th>revol.bal</th><th>revol.util</th><th>inq.last.6mths</th><th>delinq.2yrs</th><th>pub.rec</th><th>not.fully.paid</th></tr><tr><td>str</td><td>f64</td><td>str</td><td>f64</td><td>f64</td><td>f64</td><td>f64</td><td>f64</td><td>f64</td><td>f64</td><td>f64</td><td>f64</td><td>f64</td><td>f64</td><td>f64</td></tr></thead><tbody><tr><td>&quot;count&quot;</td><td>9578.0</td><td>&quot;9578&quot;</td><td>9578.0</td><td>9578.0</td><td>9578.0</td><td>9578.0</td><td>9578.0</td><td>9578.0</td><td>9578.0</td><td>9578.0</td><td>9578.0</td><td>9578.0</td><td>9578.0</td><td>9578.0</td></tr><tr><td>&quot;null_count&quot;</td><td>0.0</td><td>&quot;0&quot;</td><td>0.0</td><td>0.0</td><td>0.0</td><td>0.0</td><td>0.0</td><td>0.0</td><td>0.0</td><td>0.0</td><td>0.0</td><td>0.0</td><td>0.0</td><td>0.0</td></tr><tr><td>&quot;mean&quot;</td><td>0.80497</td><td>null</td><td>0.12264</td><td>319.089413</td><td>10.932117</td><td>12.606679</td><td>710.846314</td><td>4560.767197</td><td>16913.963876</td><td>46.799236</td><td>1.577469</td><td>0.163708</td><td>0.062122</td><td>0.160054</td></tr><tr><td>&quot;std&quot;</td><td>0.396245</td><td>null</td><td>0.026847</td><td>207.071301</td><td>0.614813</td><td>6.88397</td><td>37.970537</td><td>2496.930377</td><td>33756.189557</td><td>29.014417</td><td>2.200245</td><td>0.546215</td><td>0.262126</td><td>0.366676</td></tr><tr><td>&quot;min&quot;</td><td>0.0</td><td>&quot;all_other&quot;</td><td>0.06</td><td>15.67</td><td>7.547502</td><td>0.0</td><td>612.0</td><td>178.958333</td><td>0.0</td><td>0.0</td><td>0.0</td><td>0.0</td><td>0.0</td><td>0.0</td></tr><tr><td>&quot;25%&quot;</td><td>1.0</td><td>null</td><td>0.1039</td><td>163.77</td><td>10.558414</td><td>7.21</td><td>682.0</td><td>2820.0</td><td>3187.0</td><td>22.6</td><td>0.0</td><td>0.0</td><td>0.0</td><td>0.0</td></tr><tr><td>&quot;50%&quot;</td><td>1.0</td><td>null</td><td>0.1221</td><td>268.95</td><td>10.929529</td><td>12.67</td><td>707.0</td><td>4139.958333</td><td>8596.0</td><td>46.3</td><td>1.0</td><td>0.0</td><td>0.0</td><td>0.0</td></tr><tr><td>&quot;75%&quot;</td><td>1.0</td><td>null</td><td>0.1407</td><td>432.9</td><td>11.29178</td><td>17.95</td><td>737.0</td><td>5730.0</td><td>18252.0</td><td>70.9</td><td>2.0</td><td>0.0</td><td>0.0</td><td>0.0</td></tr><tr><td>&quot;max&quot;</td><td>1.0</td><td>&quot;small_business…</td><td>0.2164</td><td>940.14</td><td>14.528354</td><td>29.96</td><td>827.0</td><td>17639.95833</td><td>1.207359e6</td><td>119.0</td><td>33.0</td><td>13.0</td><td>5.0</td><td>1.0</td></tr></tbody></table></div>"
            ]
          },
          "metadata": {},
          "execution_count": 6
        }
      ]
    },
    {
      "cell_type": "code",
      "source": [
        "#Mesma função do df.head\n",
        "df.limit(5)"
      ],
      "metadata": {
        "colab": {
          "base_uri": "https://localhost:8080/",
          "height": 255
        },
        "id": "sCxdpasSqWm4",
        "outputId": "90ee9e9e-39cd-4a1f-9388-caa407edee41"
      },
      "execution_count": null,
      "outputs": [
        {
          "output_type": "execute_result",
          "data": {
            "text/plain": [
              "shape: (5, 14)\n",
              "┌────────────┬────────────┬──────────┬───────────┬───┬───────────┬───────────┬─────────┬───────────┐\n",
              "│ credit.pol ┆ purpose    ┆ int.rate ┆ installme ┆ … ┆ inq.last. ┆ delinq.2y ┆ pub.rec ┆ not.fully │\n",
              "│ icy        ┆ ---        ┆ ---      ┆ nt        ┆   ┆ 6mths     ┆ rs        ┆ ---     ┆ .paid     │\n",
              "│ ---        ┆ str        ┆ f64      ┆ ---       ┆   ┆ ---       ┆ ---       ┆ i64     ┆ ---       │\n",
              "│ i64        ┆            ┆          ┆ f64       ┆   ┆ i64       ┆ i64       ┆         ┆ i64       │\n",
              "╞════════════╪════════════╪══════════╪═══════════╪═══╪═══════════╪═══════════╪═════════╪═══════════╡\n",
              "│ 1          ┆ debt_conso ┆ 0.1189   ┆ 829.1     ┆ … ┆ 0         ┆ 0         ┆ 0       ┆ 0         │\n",
              "│            ┆ lidation   ┆          ┆           ┆   ┆           ┆           ┆         ┆           │\n",
              "│ 1          ┆ credit_car ┆ 0.1071   ┆ 228.22    ┆ … ┆ 0         ┆ 0         ┆ 0       ┆ 0         │\n",
              "│            ┆ d          ┆          ┆           ┆   ┆           ┆           ┆         ┆           │\n",
              "│ 1          ┆ debt_conso ┆ 0.1357   ┆ 366.86    ┆ … ┆ 1         ┆ 0         ┆ 0       ┆ 0         │\n",
              "│            ┆ lidation   ┆          ┆           ┆   ┆           ┆           ┆         ┆           │\n",
              "│ 1          ┆ debt_conso ┆ 0.1008   ┆ 162.34    ┆ … ┆ 1         ┆ 0         ┆ 0       ┆ 0         │\n",
              "│            ┆ lidation   ┆          ┆           ┆   ┆           ┆           ┆         ┆           │\n",
              "│ 1          ┆ credit_car ┆ 0.1426   ┆ 102.92    ┆ … ┆ 0         ┆ 1         ┆ 0       ┆ 0         │\n",
              "│            ┆ d          ┆          ┆           ┆   ┆           ┆           ┆         ┆           │\n",
              "└────────────┴────────────┴──────────┴───────────┴───┴───────────┴───────────┴─────────┴───────────┘"
            ],
            "text/html": [
              "<div><style>\n",
              ".dataframe > thead > tr,\n",
              ".dataframe > tbody > tr {\n",
              "  text-align: right;\n",
              "  white-space: pre-wrap;\n",
              "}\n",
              "</style>\n",
              "<small>shape: (5, 14)</small><table border=\"1\" class=\"dataframe\"><thead><tr><th>credit.policy</th><th>purpose</th><th>int.rate</th><th>installment</th><th>log.annual.inc</th><th>dti</th><th>fico</th><th>days.with.cr.line</th><th>revol.bal</th><th>revol.util</th><th>inq.last.6mths</th><th>delinq.2yrs</th><th>pub.rec</th><th>not.fully.paid</th></tr><tr><td>i64</td><td>str</td><td>f64</td><td>f64</td><td>f64</td><td>f64</td><td>i64</td><td>f64</td><td>i64</td><td>f64</td><td>i64</td><td>i64</td><td>i64</td><td>i64</td></tr></thead><tbody><tr><td>1</td><td>&quot;debt_consolida…</td><td>0.1189</td><td>829.1</td><td>11.350407</td><td>19.48</td><td>737</td><td>5639.958333</td><td>28854</td><td>52.1</td><td>0</td><td>0</td><td>0</td><td>0</td></tr><tr><td>1</td><td>&quot;credit_card&quot;</td><td>0.1071</td><td>228.22</td><td>11.082143</td><td>14.29</td><td>707</td><td>2760.0</td><td>33623</td><td>76.7</td><td>0</td><td>0</td><td>0</td><td>0</td></tr><tr><td>1</td><td>&quot;debt_consolida…</td><td>0.1357</td><td>366.86</td><td>10.373491</td><td>11.63</td><td>682</td><td>4710.0</td><td>3511</td><td>25.6</td><td>1</td><td>0</td><td>0</td><td>0</td></tr><tr><td>1</td><td>&quot;debt_consolida…</td><td>0.1008</td><td>162.34</td><td>11.350407</td><td>8.1</td><td>712</td><td>2699.958333</td><td>33667</td><td>73.2</td><td>1</td><td>0</td><td>0</td><td>0</td></tr><tr><td>1</td><td>&quot;credit_card&quot;</td><td>0.1426</td><td>102.92</td><td>11.299732</td><td>14.97</td><td>667</td><td>4066.0</td><td>4740</td><td>39.5</td><td>0</td><td>1</td><td>0</td><td>0</td></tr></tbody></table></div>"
            ]
          },
          "metadata": {},
          "execution_count": 7
        }
      ]
    },
    {
      "cell_type": "code",
      "source": [
        "#value_counts() no polars\n",
        "\n",
        "df.select('credit.policy').to_series().value_counts()"
      ],
      "metadata": {
        "colab": {
          "base_uri": "https://localhost:8080/",
          "height": 161
        },
        "id": "TWIYlxRYr_Vc",
        "outputId": "6ffa7e15-75b0-4e82-939b-5c59bef5e433"
      },
      "execution_count": null,
      "outputs": [
        {
          "output_type": "execute_result",
          "data": {
            "text/plain": [
              "shape: (2, 2)\n",
              "┌───────────────┬───────┐\n",
              "│ credit.policy ┆ count │\n",
              "│ ---           ┆ ---   │\n",
              "│ i64           ┆ u32   │\n",
              "╞═══════════════╪═══════╡\n",
              "│ 1             ┆ 7710  │\n",
              "│ 0             ┆ 1868  │\n",
              "└───────────────┴───────┘"
            ],
            "text/html": [
              "<div><style>\n",
              ".dataframe > thead > tr,\n",
              ".dataframe > tbody > tr {\n",
              "  text-align: right;\n",
              "  white-space: pre-wrap;\n",
              "}\n",
              "</style>\n",
              "<small>shape: (2, 2)</small><table border=\"1\" class=\"dataframe\"><thead><tr><th>credit.policy</th><th>count</th></tr><tr><td>i64</td><td>u32</td></tr></thead><tbody><tr><td>1</td><td>7710</td></tr><tr><td>0</td><td>1868</td></tr></tbody></table></div>"
            ]
          },
          "metadata": {},
          "execution_count": 8
        }
      ]
    },
    {
      "cell_type": "code",
      "source": [
        "#dessa forma também funciona\n",
        "df['credit.policy'].value_counts()"
      ],
      "metadata": {
        "colab": {
          "base_uri": "https://localhost:8080/",
          "height": 161
        },
        "id": "J_2jNoLzsp7o",
        "outputId": "61cef893-bce5-401c-b1e7-18a4db28ef75"
      },
      "execution_count": null,
      "outputs": [
        {
          "output_type": "execute_result",
          "data": {
            "text/plain": [
              "shape: (2, 2)\n",
              "┌───────────────┬───────┐\n",
              "│ credit.policy ┆ count │\n",
              "│ ---           ┆ ---   │\n",
              "│ i64           ┆ u32   │\n",
              "╞═══════════════╪═══════╡\n",
              "│ 1             ┆ 7710  │\n",
              "│ 0             ┆ 1868  │\n",
              "└───────────────┴───────┘"
            ],
            "text/html": [
              "<div><style>\n",
              ".dataframe > thead > tr,\n",
              ".dataframe > tbody > tr {\n",
              "  text-align: right;\n",
              "  white-space: pre-wrap;\n",
              "}\n",
              "</style>\n",
              "<small>shape: (2, 2)</small><table border=\"1\" class=\"dataframe\"><thead><tr><th>credit.policy</th><th>count</th></tr><tr><td>i64</td><td>u32</td></tr></thead><tbody><tr><td>1</td><td>7710</td></tr><tr><td>0</td><td>1868</td></tr></tbody></table></div>"
            ]
          },
          "metadata": {},
          "execution_count": 9
        }
      ]
    },
    {
      "cell_type": "code",
      "source": [
        "#analisando a quantidade de empréstimo por objetivo\n",
        "#df.select('purpose').to_series().value_counts()\n",
        "counts_purpose = df['purpose'].value_counts().sort('count', descending=True)"
      ],
      "metadata": {
        "id": "kyZCDdzLs2A1"
      },
      "execution_count": null,
      "outputs": []
    },
    {
      "cell_type": "code",
      "source": [
        "plt.figure(figsize=(10,6))\n",
        "plt.bar(counts_purpose['purpose'], counts_purpose['count'], color='blue')\n",
        "plt.xlabel('Objetivo')\n",
        "plt.ylabel('Quantidade')\n",
        "plt.title('Quantidade de empréstimo por objetivo')\n",
        "plt.xticks(rotation=45)\n",
        "plt.show()"
      ],
      "metadata": {
        "colab": {
          "base_uri": "https://localhost:8080/",
          "height": 659
        },
        "id": "mYVLj1Qity-i",
        "outputId": "3d5a7b86-081b-4748-f0e7-08ab8396c4eb"
      },
      "execution_count": null,
      "outputs": [
        {
          "output_type": "display_data",
          "data": {
            "text/plain": [
              "<Figure size 1000x600 with 1 Axes>"
            ],
            "image/png": "[encoded data removed]"
          },
          "metadata": {}
        }
      ]
    },
    {
      "cell_type": "code",
      "source": [
        "plt.figure(figsize=(16,6))\n",
        "plt.ylabel('Densidade')\n",
        "plt.title('Distribuição de empréstimo por pontuação')\n",
        "sns.distplot(df['fico'], kde=True)"
      ],
      "metadata": {
        "id": "9_4QoN8LvVkZ",
        "colab": {
          "base_uri": "https://localhost:8080/",
          "height": 808
        },
        "outputId": "32610892-0830-45e4-9ad6-a7871bf3b920"
      },
      "execution_count": null,
      "outputs": [
        {
          "output_type": "stream",
          "name": "stderr",
          "text": [
            "<ipython-input-15-2176ce816e1f>:4: UserWarning:\n",
            "\n",
            "\n",
            "\n",
            "`distplot` is a deprecated function and will be removed in seaborn v0.14.0.\n",
            "\n",
            "Please adapt your code to use either `displot` (a figure-level function with\n",
            "similar flexibility) or `histplot` (an axes-level function for histograms).\n",
            "\n",
            "For a guide to updating your code to use the new functions, please see\n",
            "https://gist.github.com/mwaskom/de44147ed2974457ad6372750bbe5751\n",
            "\n",
            "\n"
          ]
        },
        {
          "output_type": "execute_result",
          "data": {
            "text/plain": [
              "<Axes: title={'center': 'Distribuição de empréstimo por pontuação'}, xlabel='fico', ylabel='Densidade'>"
            ]
          },
          "metadata": {},
          "execution_count": 15
        },
        {
          "output_type": "display_data",
          "data": {
            "text/plain": [
              "<Figure size 1600x600 with 1 Axes>"
            ],
            "image/png": "[encoded data removed]"
          },
          "metadata": {}
        }
      ]
    }
  ]
}