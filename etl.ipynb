{
 "cells": [
  {
   "cell_type": "markdown",
   "metadata": {},
   "source": [
    "### Env Config"
   ]
  },
  {
   "cell_type": "code",
   "execution_count": 1,
   "metadata": {},
   "outputs": [],
   "source": [
    "%%capture\n",
    "%pip install pandas requests fastparquet"
   ]
  },
  {
   "cell_type": "code",
   "execution_count": 2,
   "metadata": {},
   "outputs": [],
   "source": [
    "import zipfile, requests, os, random\n",
    "import pandas as pd\n",
    "\n",
    "pd.options.display.float_format = '{:.2f}'.format"
   ]
  },
  {
   "cell_type": "code",
   "execution_count": 3,
   "metadata": {},
   "outputs": [],
   "source": [
    "def convert_category_dtype(df: pd.DataFrame, column: str):\n",
    "    df[column] = df[column].astype('category')\n",
    "    return df\n",
    "def convert_float_dtype(df: pd.DataFrame, column: str):\n",
    "    df[column] = df[column].apply(lambda x : str(x).replace(\",\",\".\"))\n",
    "    df[column] = df[column].astype('float64')\n",
    "    return df\n",
    "def convert_int_dtype(df: pd.DataFrame, column: str):\n",
    "    df[column] = df[column].apply(lambda x : str(x).replace(\"<= 15\",\"15\"))\n",
    "    df[column] = df[column].astype(int)\n",
    "    return df\n",
    "\n",
    "def export_to_parquet(df: pd.DataFrame, path: str):\n",
    "\tif not os.path.exists(path):\n",
    "\t\tos.makedirs(path)\n",
    "\tdf.to_parquet(f'{path}/df.parquet', engine='fastparquet')"
   ]
  },
  {
   "cell_type": "markdown",
   "metadata": {},
   "source": [
    "### Extração Manual e manutenção da integridade da zona Staging"
   ]
  },
  {
   "cell_type": "code",
   "execution_count": 4,
   "metadata": {},
   "outputs": [],
   "source": [
    "planilhas = [\n",
    "\t'planilha_2012',\n",
    "\t'planilha_2013',\n",
    "\t'planilha_2014',\n",
    "\t'planilha_2015',\n",
    "\t'planilha_2016',\n",
    "\t'planilha_2017',\n",
    "\t'planilha_2018',\n",
    "\t'planilha_2019',\n",
    "\t'planilha_2020',\n",
    "\t'planilha_2021',\n",
    "\t'planilha_2022',\n",
    "\t'planilha_2023',\n",
    "\t'planilha_2024',\n",
    "]\n",
    "\n",
    "for planilha in planilhas:\n",
    "\tif not os.path.exists(f'data/staging/{planilha}.zip'):\n",
    "\t\turl = f'https://www.bcb.gov.br/pda/desig/{planilha}.zip'\n",
    "\n",
    "\t\tprint(f'Baixando arquivo \"{planilha}.zip\"...')\n",
    "\t\tresponse = requests.get(url)\n",
    "\n",
    "\t\twith open(f'data/staging/{planilha}.zip', 'wb') as f:\n",
    "\t\t\tf.write(response.content)"
   ]
  },
  {
   "cell_type": "markdown",
   "metadata": {},
   "source": [
    "### Exportando para zona Raw"
   ]
  },
  {
   "cell_type": "code",
   "execution_count": 5,
   "metadata": {},
   "outputs": [],
   "source": [
    "if not os.path.exists('data/raw'):\n",
    "\tos.makedirs('data/raw')\n",
    "\n",
    "for planilha in planilhas:\n",
    "    zip_obj = zipfile.ZipFile(f'data/staging/{planilha}.zip', 'r')\n",
    "    extracted_files = zip_obj.namelist()\n",
    "\n",
    "    for file in extracted_files:\n",
    "        extracted_path = os.path.join(f'data/raw', file)\n",
    "        \n",
    "        if not os.path.exists(extracted_path):\n",
    "            print(f'Extraindo {file}...')\n",
    "            try:\n",
    "                zip_obj.extract(file, 'data/raw')\n",
    "            except zipfile.BadZipFile:\n",
    "                print(f\"Erro: O arquivo {planilha}.zip está corrompido.\")\n",
    "            except Exception as e:\n",
    "                print(f\"Erro ao extrair {file}: {e}\")\n",
    "\n",
    "    zip_obj.close()"
   ]
  },
  {
   "cell_type": "markdown",
   "metadata": {},
   "source": [
    "### Criando dataframe"
   ]
  },
  {
   "cell_type": "code",
   "execution_count": 6,
   "metadata": {},
   "outputs": [
    {
     "name": "stdout",
     "output_type": "stream",
     "text": [
      "Processado o arquivo planilha_201206.csv\n",
      "Processado o arquivo planilha_201207.csv\n",
      "Processado o arquivo planilha_201208.csv\n",
      "Processado o arquivo planilha_201209.csv\n",
      "Processado o arquivo planilha_201210.csv\n",
      "Processado o arquivo planilha_201211.csv\n",
      "Processado o arquivo planilha_201212.csv\n",
      "Processado o arquivo planilha_201301.csv\n",
      "Processado o arquivo planilha_201302.csv\n",
      "Processado o arquivo planilha_201303.csv\n",
      "Processado o arquivo planilha_201304.csv\n",
      "Processado o arquivo planilha_201305.csv\n",
      "Processado o arquivo planilha_201306.csv\n",
      "Processado o arquivo planilha_201307.csv\n",
      "Processado o arquivo planilha_201308.csv\n",
      "Processado o arquivo planilha_201309.csv\n",
      "Processado o arquivo planilha_201310.csv\n",
      "Processado o arquivo planilha_201311.csv\n",
      "Processado o arquivo planilha_201312.csv\n",
      "Processado o arquivo planilha_201401.csv\n",
      "Processado o arquivo planilha_201402.csv\n",
      "Processado o arquivo planilha_201403.csv\n",
      "Processado o arquivo planilha_201404.csv\n",
      "Processado o arquivo planilha_201405.csv\n",
      "Processado o arquivo planilha_201406.csv\n",
      "Processado o arquivo planilha_201407.csv\n",
      "Processado o arquivo planilha_201408.csv\n",
      "Processado o arquivo planilha_201409.csv\n",
      "Processado o arquivo planilha_201410.csv\n",
      "Processado o arquivo planilha_201411.csv\n",
      "Processado o arquivo planilha_201412.csv\n",
      "Processado o arquivo planilha_201501.csv\n",
      "Processado o arquivo planilha_201502.csv\n",
      "Processado o arquivo planilha_201503.csv\n",
      "Processado o arquivo planilha_201504.csv\n",
      "Processado o arquivo planilha_201505.csv\n",
      "Processado o arquivo planilha_201506.csv\n",
      "Processado o arquivo planilha_201507.csv\n",
      "Processado o arquivo planilha_201508.csv\n",
      "Processado o arquivo planilha_201509.csv\n",
      "Processado o arquivo planilha_201510.csv\n",
      "Processado o arquivo planilha_201511.csv\n",
      "Processado o arquivo planilha_201512.csv\n",
      "Processado o arquivo planilha_201601.csv\n",
      "Processado o arquivo planilha_201602.csv\n",
      "Processado o arquivo planilha_201603.csv\n",
      "Processado o arquivo planilha_201604.csv\n",
      "Processado o arquivo planilha_201605.csv\n",
      "Processado o arquivo planilha_201606.csv\n",
      "Processado o arquivo planilha_201607.csv\n",
      "Processado o arquivo planilha_201608.csv\n",
      "Processado o arquivo planilha_201609.csv\n",
      "Processado o arquivo planilha_201610.csv\n",
      "Processado o arquivo planilha_201611.csv\n",
      "Processado o arquivo planilha_201612.csv\n",
      "Processado o arquivo planilha_201701.csv\n",
      "Processado o arquivo planilha_201702.csv\n",
      "Processado o arquivo planilha_201703.csv\n",
      "Processado o arquivo planilha_201704.csv\n",
      "Processado o arquivo planilha_201705.csv\n",
      "Processado o arquivo planilha_201706.csv\n",
      "Processado o arquivo planilha_201707.csv\n",
      "Processado o arquivo planilha_201708.csv\n",
      "Processado o arquivo planilha_201709.csv\n",
      "Processado o arquivo planilha_201710.csv\n",
      "Processado o arquivo planilha_201711.csv\n",
      "Processado o arquivo planilha_201712.csv\n",
      "Processado o arquivo planilha_201801.csv\n",
      "Processado o arquivo planilha_201802.csv\n",
      "Processado o arquivo planilha_201803.csv\n",
      "Processado o arquivo planilha_201804.csv\n",
      "Processado o arquivo planilha_201805.csv\n",
      "Processado o arquivo planilha_201806.csv\n",
      "Processado o arquivo planilha_201807.csv\n",
      "Processado o arquivo planilha_201808.csv\n",
      "Processado o arquivo planilha_201809.csv\n",
      "Processado o arquivo planilha_201810.csv\n",
      "Processado o arquivo planilha_201811.csv\n",
      "Processado o arquivo planilha_201812.csv\n",
      "Processado o arquivo planilha_201901.csv\n",
      "Processado o arquivo planilha_201902.csv\n",
      "Processado o arquivo planilha_201903.csv\n",
      "Processado o arquivo planilha_201904.csv\n",
      "Processado o arquivo planilha_201905.csv\n",
      "Processado o arquivo planilha_201906.csv\n",
      "Processado o arquivo planilha_201907.csv\n",
      "Processado o arquivo planilha_201908.csv\n",
      "Processado o arquivo planilha_201909.csv\n",
      "Processado o arquivo planilha_201910.csv\n",
      "Processado o arquivo planilha_201911.csv\n",
      "Processado o arquivo planilha_201912.csv\n",
      "Processado o arquivo planilha_202001.csv\n",
      "Processado o arquivo planilha_202002.csv\n",
      "Processado o arquivo planilha_202003.csv\n",
      "Processado o arquivo planilha_202004.csv\n",
      "Processado o arquivo planilha_202005.csv\n",
      "Processado o arquivo planilha_202006.csv\n",
      "Processado o arquivo planilha_202007.csv\n",
      "Processado o arquivo planilha_202008.csv\n",
      "Processado o arquivo planilha_202009.csv\n",
      "Processado o arquivo planilha_202010.csv\n",
      "Processado o arquivo planilha_202011.csv\n",
      "Processado o arquivo planilha_202012.csv\n",
      "Processado o arquivo planilha_202101.csv\n",
      "Processado o arquivo planilha_202102.csv\n",
      "Processado o arquivo planilha_202103.csv\n",
      "Processado o arquivo planilha_202104.csv\n",
      "Processado o arquivo planilha_202105.csv\n",
      "Processado o arquivo planilha_202106.csv\n",
      "Processado o arquivo planilha_202107.csv\n",
      "Processado o arquivo planilha_202108.csv\n",
      "Processado o arquivo planilha_202109.csv\n",
      "Processado o arquivo planilha_202110.csv\n",
      "Processado o arquivo planilha_202111.csv\n",
      "Processado o arquivo planilha_202112.csv\n",
      "Processado o arquivo planilha_202201.csv\n",
      "Processado o arquivo planilha_202202.csv\n",
      "Processado o arquivo planilha_202203.csv\n",
      "Processado o arquivo planilha_202204.csv\n",
      "Processado o arquivo planilha_202205.csv\n",
      "Processado o arquivo planilha_202206.csv\n",
      "Processado o arquivo planilha_202207.csv\n",
      "Processado o arquivo planilha_202208.csv\n",
      "Processado o arquivo planilha_202209.csv\n",
      "Processado o arquivo planilha_202210.csv\n",
      "Processado o arquivo planilha_202211.csv\n",
      "Processado o arquivo planilha_202212.csv\n",
      "Processado o arquivo planilha_202301.csv\n",
      "Processado o arquivo planilha_202302.csv\n",
      "Processado o arquivo planilha_202303.csv\n",
      "Processado o arquivo planilha_202304.csv\n",
      "Processado o arquivo planilha_202305.csv\n",
      "Processado o arquivo planilha_202306.csv\n",
      "Processado o arquivo planilha_202307.csv\n",
      "Processado o arquivo planilha_202308.csv\n",
      "Processado o arquivo planilha_202309.csv\n",
      "Processado o arquivo planilha_202310.csv\n",
      "Processado o arquivo planilha_202311.csv\n",
      "Processado o arquivo planilha_202312.csv\n",
      "Processado o arquivo planilha_202401.csv\n",
      "Processado o arquivo planilha_202402.csv\n",
      "Processado o arquivo planilha_202403.csv\n",
      "Processado o arquivo planilha_202404.csv\n",
      "Processado o arquivo planilha_202405.csv\n",
      "Processado o arquivo planilha_202406.csv\n",
      "Processado o arquivo planilha_202407.csv\n"
     ]
    }
   ],
   "source": [
    "files = os.listdir('data/raw')\n",
    "files.sort()\n",
    "\n",
    "total_lines_size = 2000000\n",
    "# Essa opção de randomização existe pois o dataset é ordenado por UF, e isso tanto pode enviesar a análise quanto remove a opção de utilizar UF como uma variável categórica válida\n",
    "randomize_sample = True\n",
    "\n",
    "sample_size = total_lines_size / len(files)\n",
    "sample_size = int(sample_size)\n",
    "\n",
    "df = pd.DataFrame()\n",
    "for file in files:\n",
    "\tprint(f'Processado o arquivo {file}')\n",
    "\n",
    "\ttemp_df = pd.DataFrame()\n",
    "\tif randomize_sample:\n",
    "\t\ttemp_df = pd.read_csv(f'data/raw/{file}', sep=';', encoding='utf-8-sig').sample(n=sample_size, random_state=random.randint(1, 1000))\n",
    "\telse:\n",
    "\t\ttemp_df = pd.read_csv(f'data/raw/{file}', sep=';', encoding='utf-8-sig', nrows=sample_size)\n",
    "\tdf = pd.concat([df, temp_df], ignore_index=True)"
   ]
  },
  {
   "cell_type": "markdown",
   "metadata": {},
   "source": [
    "### Ajuste de tipagem dos dados"
   ]
  },
  {
   "cell_type": "code",
   "execution_count": 7,
   "metadata": {},
   "outputs": [
    {
     "data": {
      "text/plain": [
       "data_base                         object\n",
       "uf                                object\n",
       "tcb                               object\n",
       "sr                                object\n",
       "cliente                           object\n",
       "ocupacao                          object\n",
       "cnae_secao                        object\n",
       "cnae_subclasse                    object\n",
       "porte                             object\n",
       "modalidade                        object\n",
       "origem                            object\n",
       "indexador                         object\n",
       "numero_de_operacoes               object\n",
       "a_vencer_ate_90_dias              object\n",
       "a_vencer_de_91_ate_360_dias       object\n",
       "a_vencer_de_361_ate_1080_dias     object\n",
       "a_vencer_de_1081_ate_1800_dias    object\n",
       "a_vencer_de_1801_ate_5400_dias    object\n",
       "a_vencer_acima_de_5400_dias       object\n",
       "vencido_acima_de_15_dias          object\n",
       "carteira_ativa                    object\n",
       "carteira_inadimplida_arrastada    object\n",
       "ativo_problematico                object\n",
       "dtype: object"
      ]
     },
     "execution_count": 7,
     "metadata": {},
     "output_type": "execute_result"
    }
   ],
   "source": [
    "df.dtypes"
   ]
  },
  {
   "cell_type": "code",
   "execution_count": 8,
   "metadata": {},
   "outputs": [],
   "source": [
    "FLOAT_COLS = [\n",
    "    \"a_vencer_ate_90_dias\",\n",
    "    \"a_vencer_de_91_ate_360_dias\",\n",
    "    \"a_vencer_de_361_ate_1080_dias\",\n",
    "    \"a_vencer_de_1081_ate_1800_dias\",\n",
    "    \"a_vencer_de_1801_ate_5400_dias\",\n",
    "    \"a_vencer_acima_de_5400_dias\",\n",
    "    \"vencido_acima_de_15_dias\",\n",
    "    \"carteira_ativa\",\n",
    "    \"carteira_inadimplida_arrastada\",\n",
    "    \"ativo_problematico\"\n",
    "]\n",
    "CATEGORY_COLS = [\n",
    "    'uf',\n",
    "    'tcb',\n",
    "    'sr',\n",
    "    'ocupacao',\n",
    "    'cnae_secao',\n",
    "    'cnae_subclasse',\n",
    "    'porte',\n",
    "    'modalidade',\n",
    "    'origem',\n",
    "    'indexador'\n",
    "]\n",
    "INT_COLS = [\n",
    "    'numero_de_operacoes'\n",
    "]\n",
    "\n",
    "for column in df.columns:\n",
    "\tif column in FLOAT_COLS:\n",
    "\t\tdf = convert_float_dtype(df=df, column=column)\n",
    "\t\tdf = df.rename(columns={column: \"vl_\" + column.lower()})\n",
    "\telif column in CATEGORY_COLS:\n",
    "\t\tdf = convert_category_dtype(df=df, column=column)\n",
    "\t\tdf = df.rename(columns={column: \"ct_\" + column.lower()})\n",
    "\telif column in INT_COLS:\n",
    "\t\tdf = convert_int_dtype(df=df, column=column)\n",
    "\t\tdf = df.rename(columns={column: \"nu_\" + column.lower()})"
   ]
  },
  {
   "cell_type": "code",
   "execution_count": 9,
   "metadata": {},
   "outputs": [],
   "source": [
    "df['dt_data_base'] = pd.to_datetime(df.pop('data_base'), format=\"%Y-%m-%d\")"
   ]
  },
  {
   "cell_type": "code",
   "execution_count": 10,
   "metadata": {},
   "outputs": [
    {
     "data": {
      "text/plain": [
       "'datetime64[ns]'"
      ]
     },
     "execution_count": 10,
     "metadata": {},
     "output_type": "execute_result"
    }
   ],
   "source": [
    "df['dt_data_base'].dtype.name"
   ]
  },
  {
   "cell_type": "code",
   "execution_count": 11,
   "metadata": {},
   "outputs": [
    {
     "data": {
      "text/plain": [
       "cliente\n",
       "PJ    1883304\n",
       "PF     306696\n",
       "Name: count, dtype: int64"
      ]
     },
     "execution_count": 11,
     "metadata": {},
     "output_type": "execute_result"
    }
   ],
   "source": [
    "df['cliente'].value_counts()"
   ]
  },
  {
   "cell_type": "code",
   "execution_count": 12,
   "metadata": {},
   "outputs": [],
   "source": [
    "df['ct_classificacao'] = df.pop('cliente').astype('category')"
   ]
  },
  {
   "cell_type": "markdown",
   "metadata": {},
   "source": [
    "#### Assim percebemos que já existe uma coluna com a classificação do cliente, então vamos retirar essa informação das outras colunas"
   ]
  },
  {
   "cell_type": "code",
   "execution_count": 13,
   "metadata": {},
   "outputs": [
    {
     "data": {
      "text/plain": [
       "ct_porte\n",
       "PJ - Pequeno                                     684083\n",
       "PJ - Micro                                       675847\n",
       "PJ - Médio                                       431197\n",
       "PJ - Grande                                       82023\n",
       "PF - Mais de 5 a 10 salários mínimos              43156\n",
       "PF - Mais de 3 a 5 salários mínimos               41486\n",
       "PF - Mais de 10 a 20 salários mínimos             40037\n",
       "PF - Acima de 20 salários mínimos                 39734\n",
       "PF - Mais de 2 a 3 salários mínimos               39014\n",
       "PF - Mais de 1 a 2 salários mínimos               38718\n",
       "PF - Até 1 salário mínimo                         32457\n",
       "PF - Sem rendimento                               20400\n",
       "PF - Indisponível                                 11694\n",
       "PJ - Indisponível                                 10154\n",
       "Name: count, dtype: int64"
      ]
     },
     "execution_count": 13,
     "metadata": {},
     "output_type": "execute_result"
    }
   ],
   "source": [
    "df['ct_porte'].value_counts()"
   ]
  },
  {
   "cell_type": "code",
   "execution_count": 14,
   "metadata": {},
   "outputs": [],
   "source": [
    "df['ct_porte'] = df['ct_porte'].apply(lambda x: x[5:].strip()).astype('category')"
   ]
  },
  {
   "cell_type": "code",
   "execution_count": 15,
   "metadata": {},
   "outputs": [
    {
     "data": {
      "text/plain": [
       "ct_modalidade\n",
       "PJ - Capital de giro                                                              429691\n",
       "PJ - Outros créditos                                                              360866\n",
       "PJ - Cheque especial e conta garantida                                            306160\n",
       "PJ - Investimento                                                                 302158\n",
       "PJ - Financiamento de infraestrutura/desenvolvimento/projeto e outros créditos    265904\n",
       "PJ - Operações com recebíveis                                                     169486\n",
       "PF - Outros créditos                                                               76950\n",
       "PF - Empréstimo sem consignação em folha                                           48012\n",
       "PF - Cartão de crédito                                                             42549\n",
       "PF - Rural e agroindustrial                                                        40011\n",
       "PF - Veículos                                                                      35660\n",
       "PF - Empréstimo com consignação em folha                                           34919\n",
       "PF - Habitacional                                                                  28595\n",
       "PJ - Comércio exterior                                                             19060\n",
       "PJ - Rural e agroindustrial                                                        14662\n",
       "PJ - Habitacional                                                                   9237\n",
       "PJ - Capital de giro rotativo                                                       6080\n",
       "Name: count, dtype: int64"
      ]
     },
     "execution_count": 15,
     "metadata": {},
     "output_type": "execute_result"
    }
   ],
   "source": [
    "df['ct_modalidade'].value_counts()"
   ]
  },
  {
   "cell_type": "code",
   "execution_count": 16,
   "metadata": {},
   "outputs": [],
   "source": [
    "df['ct_modalidade'] = df['ct_modalidade'].apply(lambda x: x[5:].strip()).astype('category')"
   ]
  },
  {
   "cell_type": "code",
   "execution_count": 17,
   "metadata": {},
   "outputs": [
    {
     "data": {
      "text/plain": [
       "ct_ocupacao\n",
       "-                                                  1883304\n",
       "PF - Outros                                          54026\n",
       "PF - Empresário                                      46386\n",
       "PF - Autônomo                                        44241\n",
       "PF - Servidor ou empregado público                   43613\n",
       "PF - Empregado de empresa privada                    43204\n",
       "PF - Aposentado/pensionista                          38627\n",
       "PF - MEI                                             20481\n",
       "PF - Empregado de entidades sem fins lucrativos      16118\n",
       "Name: count, dtype: int64"
      ]
     },
     "execution_count": 17,
     "metadata": {},
     "output_type": "execute_result"
    }
   ],
   "source": [
    "df['ct_ocupacao'].value_counts()"
   ]
  },
  {
   "cell_type": "code",
   "execution_count": 18,
   "metadata": {},
   "outputs": [],
   "source": [
    "df['ct_ocupacao'] = df['ct_ocupacao'].apply(lambda x: x[5:].strip()).astype('category')"
   ]
  },
  {
   "cell_type": "code",
   "execution_count": 19,
   "metadata": {},
   "outputs": [
    {
     "data": {
      "text/plain": [
       "ct_cnae_secao\n",
       "PJ - Comércio; reparação de veículos automotores e motocicletas           634330\n",
       "PJ - Indústrias de transformação                                          419309\n",
       "-                                                                         306696\n",
       "PJ - Atividades administrativas e serviços complementares                 115023\n",
       "PJ - Construção                                                           100093\n",
       "PJ - Transporte, armazenagem e correio                                     90060\n",
       "PJ - Atividades profissionais, científicas e técnicas                      79347\n",
       "PJ - Saúde humana e serviços sociais                                       73835\n",
       "PJ - Informação e comunicação                                              61048\n",
       "PJ - Alojamento e alimentação                                              49233\n",
       "PJ - Outras atividades de serviços                                         48942\n",
       "PJ - Educação                                                              48742\n",
       "PJ - Agricultura, pecuária, produção florestal, pesca e aqüicultura        45933\n",
       "PJ - Atividades financeiras, de seguros e serviços relacionados            27840\n",
       "PJ - Artes, cultura, esporte e recreação                                   26419\n",
       "PJ - Atividades imobiliárias                                               23474\n",
       "PJ - Água, esgoto, atividades de gestão de resíduos e descontaminação      18768\n",
       "PJ - Indústrias extrativas                                                 14563\n",
       "PJ - Eletricidade e gás                                                     3601\n",
       "PJ - Administração pública, defesa e seguridade social                      1839\n",
       "PJ - Serviços domésticos                                                     864\n",
       "PJ - Organismos internacionais e outras instituições extraterritoriais        41\n",
       "Name: count, dtype: int64"
      ]
     },
     "execution_count": 19,
     "metadata": {},
     "output_type": "execute_result"
    }
   ],
   "source": [
    "df['ct_cnae_secao'].value_counts()"
   ]
  },
  {
   "cell_type": "code",
   "execution_count": 20,
   "metadata": {},
   "outputs": [],
   "source": [
    "df['ct_cnae_secao'] = df['ct_cnae_secao'].apply(lambda x: x[5:].strip()).astype('category')"
   ]
  },
  {
   "cell_type": "code",
   "execution_count": 21,
   "metadata": {},
   "outputs": [
    {
     "data": {
      "text/plain": [
       "ct_cnae_subclasse\n",
       "-                                                                                                                                    373365\n",
       "PJ - Transporte rodoviário de carga, exceto produtos perigosos e mudanças, intermunicipal, interestadual e internacional              10378\n",
       "PJ - Construção de edifícios                                                                                                           9786\n",
       "PJ - Comércio varejista de materiais de construção em geral                                                                            9390\n",
       "PJ - Comércio varejista de mercadorias em geral, com predominância de produtos alimentícios - minimercados, mercearias e armazéns      9339\n",
       "                                                                                                                                      ...  \n",
       "PJ - Fundos de investimento previdenciários                                                                                               1\n",
       "PJ - Segurança e ordem pública                                                                                                            1\n",
       "PJ - Extração de minérios de nióbio e titânio                                                                                             1\n",
       "PJ - Defesa Civil                                                                                                                         1\n",
       "PJ - Produção de zinco em formas primárias                                                                                                1\n",
       "Name: count, Length: 1262, dtype: int64"
      ]
     },
     "execution_count": 21,
     "metadata": {},
     "output_type": "execute_result"
    }
   ],
   "source": [
    "df['ct_cnae_subclasse'].value_counts()"
   ]
  },
  {
   "cell_type": "code",
   "execution_count": 22,
   "metadata": {},
   "outputs": [],
   "source": [
    "df['ct_cnae_subclasse'] = df['ct_cnae_subclasse'].apply(lambda x: x[5:].strip()).astype('category')"
   ]
  },
  {
   "cell_type": "markdown",
   "metadata": {},
   "source": [
    "### Exportando para zona Trusted"
   ]
  },
  {
   "cell_type": "code",
   "execution_count": 23,
   "metadata": {},
   "outputs": [],
   "source": [
    "export_to_parquet(df, 'data/trusted')"
   ]
  },
  {
   "cell_type": "code",
   "execution_count": 24,
   "metadata": {},
   "outputs": [],
   "source": [
    "df['vl_carteira_ativa_n_arrastada'] = df['vl_carteira_ativa'] - df['vl_carteira_inadimplida_arrastada']"
   ]
  },
  {
   "cell_type": "code",
   "execution_count": 25,
   "metadata": {},
   "outputs": [
    {
     "data": {
      "text/plain": [
       "count       2190000.00\n",
       "mean        5486553.27\n",
       "std       105398384.07\n",
       "min               0.00\n",
       "25%           16222.25\n",
       "50%           95875.54\n",
       "75%          530343.21\n",
       "max     23078512568.43\n",
       "Name: vl_carteira_ativa_n_arrastada, dtype: float64"
      ]
     },
     "execution_count": 25,
     "metadata": {},
     "output_type": "execute_result"
    }
   ],
   "source": [
    "df['vl_carteira_ativa_n_arrastada'].describe()"
   ]
  },
  {
   "cell_type": "code",
   "execution_count": 26,
   "metadata": {},
   "outputs": [
    {
     "name": "stdout",
     "output_type": "stream",
     "text": [
      "37150\n",
      "313744\n",
      "1357788\n",
      "1814698\n",
      "780684\n",
      "2000874\n"
     ]
    }
   ],
   "source": [
    "print((df['vl_a_vencer_acima_de_5400_dias'] != 0.00).sum())\n",
    "print((df['vl_a_vencer_de_1801_ate_5400_dias'] != 0.00).sum())\n",
    "print((df['vl_a_vencer_de_361_ate_1080_dias'] != 0.00).sum())\n",
    "print((df['vl_a_vencer_de_91_ate_360_dias'] != 0.00).sum())\n",
    "print((df['vl_a_vencer_de_1081_ate_1800_dias'] != 0.00).sum())\n",
    "print((df['vl_a_vencer_ate_90_dias'] != 0.00).sum())"
   ]
  },
  {
   "cell_type": "code",
   "execution_count": 27,
   "metadata": {},
   "outputs": [],
   "source": [
    "CONVERSAO_FAIXAS = {\n",
    "\t'vl_a_vencer_acima_de_5400_dias': '> 180',\n",
    " \t'vl_a_vencer_de_1801_ate_5400_dias': '36-180',\n",
    "\t'vl_a_vencer_de_1081_ate_1800_dias': '18-36',\n",
    "\t'vl_a_vencer_de_361_ate_1080_dias': '12-18',\n",
    "\t'vl_a_vencer_de_91_ate_360_dias': '3-12',\n",
    "\t'vl_a_vencer_ate_90_dias': '0-3',\n",
    "}\n",
    "\n",
    "def calcula_range(row):\n",
    "    for col, val in CONVERSAO_FAIXAS.items():\n",
    "        if row[col] != 0.00:\n",
    "            return val\n",
    "    return None\n",
    "\n",
    "df['ct_faixa_meses_ate_vencimento'] = df.apply(calcula_range, axis=1).astype('category')"
   ]
  },
  {
   "cell_type": "code",
   "execution_count": 28,
   "metadata": {},
   "outputs": [
    {
     "data": {
      "text/plain": [
       "ct_faixa_meses_ate_vencimento\n",
       "12-18     579947\n",
       "18-36     471288\n",
       "3-12      471174\n",
       "36-180    279493\n",
       "0-3       272512\n",
       "> 180      37150\n",
       "Name: count, dtype: int64"
      ]
     },
     "execution_count": 28,
     "metadata": {},
     "output_type": "execute_result"
    }
   ],
   "source": [
    "df['ct_faixa_meses_ate_vencimento'].value_counts()"
   ]
  },
  {
   "cell_type": "code",
   "execution_count": 29,
   "metadata": {},
   "outputs": [],
   "source": [
    "df['vl_media_carteira_ativa_por_operacao'] = df['vl_carteira_ativa'] / df['nu_numero_de_operacoes']"
   ]
  },
  {
   "cell_type": "code",
   "execution_count": 30,
   "metadata": {},
   "outputs": [
    {
     "data": {
      "text/plain": [
       "count     2190000.00\n",
       "mean        95563.54\n",
       "std       2734528.20\n",
       "min             0.00\n",
       "25%          1085.79\n",
       "50%          4656.33\n",
       "75%         19184.75\n",
       "max     909839085.40\n",
       "Name: vl_media_carteira_ativa_por_operacao, dtype: float64"
      ]
     },
     "execution_count": 30,
     "metadata": {},
     "output_type": "execute_result"
    }
   ],
   "source": [
    "df['vl_media_carteira_ativa_por_operacao'].describe()"
   ]
  },
  {
   "cell_type": "code",
   "execution_count": 31,
   "metadata": {},
   "outputs": [],
   "source": [
    "df['vl_media_carteira_inadimplida_por_operacao'] = df['vl_carteira_inadimplida_arrastada'] / df['nu_numero_de_operacoes']"
   ]
  },
  {
   "cell_type": "code",
   "execution_count": 32,
   "metadata": {},
   "outputs": [
    {
     "data": {
      "text/plain": [
       "count     2190000.00\n",
       "mean         2073.38\n",
       "std        216571.46\n",
       "min             0.00\n",
       "25%             0.00\n",
       "50%             0.00\n",
       "75%            72.62\n",
       "max     240960862.62\n",
       "Name: vl_media_carteira_inadimplida_por_operacao, dtype: float64"
      ]
     },
     "execution_count": 32,
     "metadata": {},
     "output_type": "execute_result"
    }
   ],
   "source": [
    "df['vl_media_carteira_inadimplida_por_operacao'].describe()"
   ]
  },
  {
   "cell_type": "code",
   "execution_count": 33,
   "metadata": {},
   "outputs": [
    {
     "data": {
      "text/plain": [
       "ct_uf                                               category\n",
       "ct_tcb                                              category\n",
       "ct_sr                                               category\n",
       "ct_ocupacao                                         category\n",
       "ct_cnae_secao                                       category\n",
       "ct_cnae_subclasse                                   category\n",
       "ct_porte                                            category\n",
       "ct_modalidade                                       category\n",
       "ct_origem                                           category\n",
       "ct_indexador                                        category\n",
       "nu_numero_de_operacoes                                 int64\n",
       "vl_a_vencer_ate_90_dias                              float64\n",
       "vl_a_vencer_de_91_ate_360_dias                       float64\n",
       "vl_a_vencer_de_361_ate_1080_dias                     float64\n",
       "vl_a_vencer_de_1081_ate_1800_dias                    float64\n",
       "vl_a_vencer_de_1801_ate_5400_dias                    float64\n",
       "vl_a_vencer_acima_de_5400_dias                       float64\n",
       "vl_vencido_acima_de_15_dias                          float64\n",
       "vl_carteira_ativa                                    float64\n",
       "vl_carteira_inadimplida_arrastada                    float64\n",
       "vl_ativo_problematico                                float64\n",
       "dt_data_base                                  datetime64[ns]\n",
       "ct_classificacao                                    category\n",
       "vl_carteira_ativa_n_arrastada                        float64\n",
       "ct_faixa_meses_ate_vencimento                       category\n",
       "vl_media_carteira_ativa_por_operacao                 float64\n",
       "vl_media_carteira_inadimplida_por_operacao           float64\n",
       "dtype: object"
      ]
     },
     "execution_count": 33,
     "metadata": {},
     "output_type": "execute_result"
    }
   ],
   "source": [
    "df.dtypes"
   ]
  },
  {
   "cell_type": "code",
   "execution_count": 34,
   "metadata": {},
   "outputs": [
    {
     "data": {
      "text/plain": [
       "ct_uf\n",
       "SP    242360\n",
       "RS    198013\n",
       "PR    181427\n",
       "SC    180618\n",
       "MG    169356\n",
       "RJ    111636\n",
       "GO    102613\n",
       "BA     92645\n",
       "MT     87501\n",
       "ES     81985\n",
       "PE     71955\n",
       "MS     68893\n",
       "PA     64670\n",
       "CE     62905\n",
       "DF     58204\n",
       "MA     46523\n",
       "RO     45199\n",
       "RN     43848\n",
       "AM     43517\n",
       "PB     43293\n",
       "TO     36701\n",
       "AL     36144\n",
       "PI     33791\n",
       "SE     33554\n",
       "AC     19364\n",
       "AP     17851\n",
       "RR     15434\n",
       "Name: count, dtype: int64"
      ]
     },
     "execution_count": 34,
     "metadata": {},
     "output_type": "execute_result"
    }
   ],
   "source": [
    "df['ct_uf'].value_counts()"
   ]
  },
  {
   "cell_type": "markdown",
   "metadata": {},
   "source": [
    "### Exportando para zona Refined"
   ]
  },
  {
   "cell_type": "code",
   "execution_count": 35,
   "metadata": {},
   "outputs": [],
   "source": [
    "export_to_parquet(df, 'data/refined')\n",
    "df.to_csv(f'data/refined/df.csv', index=False)"
   ]
  }
 ],
 "metadata": {
  "kernelspec": {
   "display_name": "Python 3",
   "language": "python",
   "name": "python3"
  },
  "language_info": {
   "codemirror_mode": {
    "name": "ipython",
    "version": 3
   },
   "file_extension": ".py",
   "mimetype": "text/x-python",
   "name": "python",
   "nbconvert_exporter": "python",
   "pygments_lexer": "ipython3",
   "version": "3.10.12"
  }
 },
 "nbformat": 4,
 "nbformat_minor": 2
}
