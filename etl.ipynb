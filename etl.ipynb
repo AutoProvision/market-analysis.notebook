{
 "cells": [
  {
   "cell_type": "markdown",
   "metadata": {},
   "source": [
    "### Extração Manual"
   ]
  },
  {
   "cell_type": "code",
   "execution_count": 24,
   "metadata": {},
   "outputs": [],
   "source": [
    "%%capture\n",
    "%pip install pandas matplotlib requests fastparquet"
   ]
  },
  {
   "cell_type": "code",
   "execution_count": 25,
   "metadata": {},
   "outputs": [],
   "source": [
    "import zipfile, requests, os\n",
    "import pandas as pd\n",
    "import matplotlib.pyplot as plt\n",
    "import fastparquet"
   ]
  },
  {
   "cell_type": "code",
   "execution_count": 3,
   "metadata": {},
   "outputs": [],
   "source": [
    "FLOAT_COLS = [\n",
    "    \"a_vencer_ate_90_dias\",\n",
    "    \"a_vencer_de_91_ate_360_dias\",\n",
    "    \"a_vencer_de_361_ate_1080_dias\",\n",
    "    \"a_vencer_de_1081_ate_1800_dias\",\n",
    "    \"a_vencer_de_1801_ate_5400_dias\",\n",
    "    \"a_vencer_acima_de_5400_dias\",\n",
    "    \"vencido_acima_de_15_dias\",\n",
    "    \"carteira_ativa\",\n",
    "    \"carteira_inadimplida_arrastada\",\n",
    "    \"ativo_problematico\"\n",
    "]\n",
    "\n",
    "CATEGORY_COLS = [\n",
    "    'uf',\n",
    "    'tcb',\n",
    "    'sr',\n",
    "    'cliente'\n",
    "    'ocupacao',\n",
    "    'cnae_secao',\n",
    "    'cnae_subclasse',\n",
    "    'cliente', \n",
    "    'ocupacao',\n",
    "    'porte',\n",
    "    'modalidade',\n",
    "    'origem',\n",
    "    'indexador'\n",
    "]\n",
    "\n",
    "INT_COLS = [\n",
    "    'numero_de_operacoes'\n",
    "]\n",
    "\n",
    "def convert_category_dtype(df: pd.DataFrame, column: str):\n",
    "\n",
    "    df[column] = df[column].astype('category')\n",
    "\n",
    "    return df\n",
    "\n",
    "def convert_float_dtype(df: pd.DataFrame, column: str):\n",
    "\n",
    "    df[column] = df[column].apply(lambda x : str(x).replace(\",\",\".\"))\n",
    "    df[column] = df[column].astype('float64')\n",
    "\n",
    "    return df\n",
    "\n",
    "def convert_int_dtype(df: pd.DataFrame, column: str):\n",
    "\n",
    "    df[column] = df[column].apply(lambda x : str(x).replace(\"<= 15\",\"15\"))\n",
    "    df[column] = df[column].astype(int)\n",
    "\n",
    "    return df"
   ]
  },
  {
   "cell_type": "code",
   "execution_count": 4,
   "metadata": {},
   "outputs": [],
   "source": [
    "planilhas = [\n",
    "\t# 'planilha_2012',\n",
    "\t# 'planilha_2013',\n",
    "\t# 'planilha_2014',\n",
    "\t# 'planilha_2015',\n",
    "\t# 'planilha_2016',\n",
    "\t# 'planilha_2017',\n",
    "\t# 'planilha_2018',\n",
    "\t# 'planilha_2019',\n",
    "\t# 'planilha_2020',\n",
    "\t# 'planilha_2021',\n",
    "\t# 'planilha_2022',\n",
    "\t# 'planilha_2023',\n",
    "\t'planilha_2024'\n",
    "]\n",
    "\n",
    "for planilha in planilhas:\n",
    "\tif not os.path.exists(f'data/{planilha}.zip'):\n",
    "\t\turl = f'https://www.bcb.gov.br/pda/desig/{planilha}.zip'\n",
    "\n",
    "\t\tresponse = requests.get(url)\n",
    "\n",
    "\t\twith open(f'data/{planilha}.zip', 'wb') as f:\n",
    "\t\t\tf.write(response.content)"
   ]
  },
  {
   "cell_type": "code",
   "execution_count": 5,
   "metadata": {},
   "outputs": [
    {
     "name": "stdout",
     "output_type": "stream",
     "text": [
      "Extraído planilha_2024\n"
     ]
    }
   ],
   "source": [
    "for planilha in planilhas:\n",
    "\tzip_obj = zipfile.ZipFile(f'data/{planilha}.zip', 'r')\n",
    "\tzip_obj.extractall(f'data/planilha_2024')\n",
    "\tprint(f'Extraído {planilha}')"
   ]
  },
  {
   "cell_type": "code",
   "execution_count": 6,
   "metadata": {},
   "outputs": [],
   "source": [
    "files = os.listdir('data/planilha_2024')\n",
    "files.sort()\n",
    "df = pd.read_csv(f'data/planilha_2024/{files[-1]}', sep=';', encoding='utf-8')"
   ]
  },
  {
   "cell_type": "code",
   "execution_count": 7,
   "metadata": {},
   "outputs": [],
   "source": [
    "# files = os.listdir('data/planilhas')\n",
    "# files.sort()\n",
    "# merged_df = pd.DataFrame()\n",
    "# for file in files:\n",
    "# \tdf = pd.read_csv(f'data/planilhas/{file}', sep=';', encoding='utf-8')\n",
    "# \tmerged_df = pd.concat([merged_df, df])\n",
    "# \tprint(f'Processado o arquivo {file}, com {len(df.columns)} colunas')"
   ]
  },
  {
   "cell_type": "code",
   "execution_count": 8,
   "metadata": {},
   "outputs": [],
   "source": [
    "# merged_df.to_parquet('data/merged.parquet')"
   ]
  },
  {
   "cell_type": "markdown",
   "metadata": {},
   "source": [
    "### Tratamento"
   ]
  },
  {
   "cell_type": "markdown",
   "metadata": {},
   "source": [
    "## AJUSTE TIPAGEM DOS DADOS"
   ]
  },
  {
   "cell_type": "code",
   "execution_count": 13,
   "metadata": {},
   "outputs": [
    {
     "data": {
      "text/plain": [
       "0          129021,18\n",
       "1         1228674,44\n",
       "2           45090,47\n",
       "3           36282,35\n",
       "4               0,00\n",
       "             ...    \n",
       "925594          0,00\n",
       "925595        354,33\n",
       "925596          0,00\n",
       "925597          0,00\n",
       "925598          0,00\n",
       "Name: carteira_inadimplida_arrastada, Length: 925599, dtype: object"
      ]
     },
     "execution_count": 13,
     "metadata": {},
     "output_type": "execute_result"
    }
   ],
   "source": [
    "df['uf']\n",
    "df['carteira_inadimplida_arrastada']"
   ]
  },
  {
   "cell_type": "code",
   "execution_count": 14,
   "metadata": {},
   "outputs": [
    {
     "name": "stdout",
     "output_type": "stream",
     "text": [
      "uf\n",
      "tcb\n",
      "sr\n",
      "cliente\n",
      "ocupacao\n",
      "cnae_secao\n",
      "cnae_subclasse\n",
      "porte\n",
      "modalidade\n",
      "origem\n",
      "indexador\n"
     ]
    }
   ],
   "source": [
    "df['data_base'] = pd.to_datetime(df['data_base'], format=\"%Y-%m-%d\")\n",
    "\n",
    "for column in df.columns:\n",
    "\n",
    "\tif column in FLOAT_COLS:\n",
    "\t\tdf = convert_float_dtype(df=df, column=column)\n",
    "\t\tdf = df.rename(columns={column: \"vl_\" + column.lower()})\n",
    "\n",
    "\tif column in CATEGORY_COLS:\n",
    "\t\tdf = convert_category_dtype(df=df, column=column)\n",
    "\t\tdf = df.rename(columns={column: \"ct_\" + column.lower()})\n",
    "\n",
    "\tif column in INT_COLS:\n",
    "\t\tdf = convert_int_dtype(df=df, column=column)\n",
    "\t\tdf = df.rename(columns={column: \"nu_\" + column.lower()})"
   ]
  },
  {
   "cell_type": "code",
   "execution_count": 17,
   "metadata": {},
   "outputs": [
    {
     "data": {
      "text/plain": [
       "Index(['data_base', 'ct_uf', 'ct_tcb', 'ct_sr', 'ct_cliente', 'ct_ocupacao',\n",
       "       'ct_cnae_secao', 'ct_cnae_subclasse', 'ct_porte', 'ct_modalidade',\n",
       "       'ct_origem', 'ct_indexador', 'nu_numero_de_operacoes',\n",
       "       'vl_a_vencer_ate_90_dias', 'vl_a_vencer_de_91_ate_360_dias',\n",
       "       'vl_a_vencer_de_361_ate_1080_dias', 'vl_a_vencer_de_1081_ate_1800_dias',\n",
       "       'vl_a_vencer_de_1801_ate_5400_dias', 'vl_a_vencer_acima_de_5400_dias',\n",
       "       'vl_vencido_acima_de_15_dias', 'vl_carteira_ativa',\n",
       "       'vl_carteira_inadimplida_arrastada', 'vl_ativo_problematico'],\n",
       "      dtype='object')"
      ]
     },
     "execution_count": 17,
     "metadata": {},
     "output_type": "execute_result"
    }
   ],
   "source": [
    "df.columns"
   ]
  },
  {
   "cell_type": "code",
   "execution_count": 18,
   "metadata": {},
   "outputs": [
    {
     "data": {
      "text/plain": [
       "data_base\n",
       "2024-07-31    925599\n",
       "Name: count, dtype: int64"
      ]
     },
     "execution_count": 18,
     "metadata": {},
     "output_type": "execute_result"
    }
   ],
   "source": [
    "df['data_base'].value_counts()"
   ]
  },
  {
   "cell_type": "code",
   "execution_count": 21,
   "metadata": {},
   "outputs": [
    {
     "data": {
      "text/plain": [
       "nu_numero_de_operacoes\n",
       "15        698300\n",
       "16          7209\n",
       "17          6511\n",
       "18          6022\n",
       "19          5654\n",
       "           ...  \n",
       "19839          1\n",
       "65897          1\n",
       "11533          1\n",
       "112712         1\n",
       "31291          1\n",
       "Name: count, Length: 13769, dtype: int64"
      ]
     },
     "execution_count": 21,
     "metadata": {},
     "output_type": "execute_result"
    }
   ],
   "source": [
    "df['nu_numero_de_operacoes'].value_counts()"
   ]
  },
  {
   "cell_type": "code",
   "execution_count": 22,
   "metadata": {},
   "outputs": [
    {
     "data": {
      "text/plain": [
       "data_base                            datetime64[ns]\n",
       "ct_uf                                      category\n",
       "ct_tcb                                     category\n",
       "ct_sr                                      category\n",
       "ct_cliente                                 category\n",
       "ct_ocupacao                                category\n",
       "ct_cnae_secao                              category\n",
       "ct_cnae_subclasse                          category\n",
       "ct_porte                                   category\n",
       "ct_modalidade                              category\n",
       "ct_origem                                  category\n",
       "ct_indexador                               category\n",
       "nu_numero_de_operacoes                        int64\n",
       "vl_a_vencer_ate_90_dias                     float64\n",
       "vl_a_vencer_de_91_ate_360_dias              float64\n",
       "vl_a_vencer_de_361_ate_1080_dias            float64\n",
       "vl_a_vencer_de_1081_ate_1800_dias           float64\n",
       "vl_a_vencer_de_1801_ate_5400_dias           float64\n",
       "vl_a_vencer_acima_de_5400_dias              float64\n",
       "vl_vencido_acima_de_15_dias                 float64\n",
       "vl_carteira_ativa                           float64\n",
       "vl_carteira_inadimplida_arrastada           float64\n",
       "vl_ativo_problematico                       float64\n",
       "dtype: object"
      ]
     },
     "execution_count": 22,
     "metadata": {},
     "output_type": "execute_result"
    }
   ],
   "source": [
    "df.dtypes"
   ]
  },
  {
   "cell_type": "code",
   "execution_count": 29,
   "metadata": {},
   "outputs": [],
   "source": [
    "os.makedirs('data/trusted', exist_ok=True)\n",
    "df.to_parquet('data/trusted/df.parquet')"
   ]
  }
 ],
 "metadata": {
  "kernelspec": {
   "display_name": "Python 3",
   "language": "python",
   "name": "python3"
  },
  "language_info": {
   "codemirror_mode": {
    "name": "ipython",
    "version": 3
   },
   "file_extension": ".py",
   "mimetype": "text/x-python",
   "name": "python",
   "nbconvert_exporter": "python",
   "pygments_lexer": "ipython3",
   "version": "3.12.6"
  }
 },
 "nbformat": 4,
 "nbformat_minor": 2
}
