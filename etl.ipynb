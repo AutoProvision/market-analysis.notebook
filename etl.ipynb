{
 "cells": [
  {
   "cell_type": "markdown",
   "metadata": {},
   "source": [
    "### Env Config"
   ]
  },
  {
   "cell_type": "code",
   "execution_count": 1,
   "metadata": {},
   "outputs": [],
   "source": [
    "%%capture\n",
    "%pip install pandas requests fastparquet"
   ]
  },
  {
   "cell_type": "code",
   "execution_count": 2,
   "metadata": {},
   "outputs": [],
   "source": [
    "import zipfile, requests, os\n",
    "import pandas as pd\n",
    "\n",
    "pd.options.display.float_format = '{:.2f}'.format"
   ]
  },
  {
   "cell_type": "code",
   "execution_count": 3,
   "metadata": {},
   "outputs": [],
   "source": [
    "FLOAT_COLS = [\n",
    "    \"a_vencer_ate_90_dias\",\n",
    "    \"a_vencer_de_91_ate_360_dias\",\n",
    "    \"a_vencer_de_361_ate_1080_dias\",\n",
    "    \"a_vencer_de_1081_ate_1800_dias\",\n",
    "    \"a_vencer_de_1801_ate_5400_dias\",\n",
    "    \"a_vencer_acima_de_5400_dias\",\n",
    "    \"vencido_acima_de_15_dias\",\n",
    "    \"carteira_ativa\",\n",
    "    \"carteira_inadimplida_arrastada\",\n",
    "    \"ativo_problematico\"\n",
    "]\n",
    "CATEGORY_COLS = [\n",
    "    'uf',\n",
    "    'tcb',\n",
    "    'sr',\n",
    "    'cliente'\n",
    "    'ocupacao',\n",
    "    'cnae_secao',\n",
    "    'cnae_subclasse',\n",
    "    'cliente', \n",
    "    'ocupacao',\n",
    "    'porte',\n",
    "    'modalidade',\n",
    "    'origem',\n",
    "    'indexador'\n",
    "]\n",
    "INT_COLS = [\n",
    "    'numero_de_operacoes'\n",
    "]\n",
    "\n",
    "def convert_category_dtype(df: pd.DataFrame, column: str):\n",
    "    df[column] = df[column].astype('category')\n",
    "    return df\n",
    "def convert_float_dtype(df: pd.DataFrame, column: str):\n",
    "    df[column] = df[column].apply(lambda x : str(x).replace(\",\",\".\"))\n",
    "    df[column] = df[column].astype('float64')\n",
    "    return df\n",
    "def convert_int_dtype(df: pd.DataFrame, column: str):\n",
    "    df[column] = df[column].apply(lambda x : str(x).replace(\"<= 15\",\"15\"))\n",
    "    df[column] = df[column].astype(int)\n",
    "    return df\n",
    "\n",
    "def export_to_parquet(df: pd.DataFrame, path: str):\n",
    "\tif not os.path.exists(path):\n",
    "\t\tos.makedirs(path)\n",
    "\tdf.to_parquet(f'{path}/df.parquet', engine='fastparquet')"
   ]
  },
  {
   "cell_type": "markdown",
   "metadata": {},
   "source": [
    "### Extração Manual e manutenção da integridade da zona Staging"
   ]
  },
  {
   "cell_type": "code",
   "execution_count": 4,
   "metadata": {},
   "outputs": [],
   "source": [
    "planilhas = [\n",
    "\t'planilha_2012',\n",
    "\t'planilha_2013',\n",
    "\t'planilha_2014',\n",
    "\t'planilha_2015',\n",
    "\t'planilha_2016',\n",
    "\t'planilha_2017',\n",
    "\t'planilha_2018',\n",
    "\t'planilha_2019',\n",
    "\t'planilha_2020',\n",
    "\t'planilha_2021',\n",
    "\t'planilha_2022',\n",
    "\t'planilha_2023',\n",
    "\t'planilha_2024',\n",
    "]\n",
    "\n",
    "for planilha in planilhas:\n",
    "\tif not os.path.exists(f'data/staging/{planilha}.zip'):\n",
    "\t\turl = f'https://www.bcb.gov.br/pda/desig/{planilha}.zip'\n",
    "\n",
    "\t\tprint(f'Baixando arquivo \"{planilha}.zip\"...')\n",
    "\t\tresponse = requests.get(url)\n",
    "\n",
    "\t\twith open(f'data/staging/{planilha}.zip', 'wb') as f:\n",
    "\t\t\tf.write(response.content)"
   ]
  },
  {
   "cell_type": "markdown",
   "metadata": {},
   "source": [
    "### Exportando para zona Raw"
   ]
  },
  {
   "cell_type": "code",
   "execution_count": 5,
   "metadata": {},
   "outputs": [],
   "source": [
    "if not os.path.exists('data/raw'):\n",
    "\tos.makedirs('data/raw')\n",
    "\n",
    "for planilha in planilhas:\n",
    "    zip_obj = zipfile.ZipFile(f'data/staging/{planilha}.zip', 'r')\n",
    "    extracted_files = zip_obj.namelist()\n",
    "\n",
    "    for file in extracted_files:\n",
    "        extracted_path = os.path.join(f'data/raw', file)\n",
    "        \n",
    "        if not os.path.exists(extracted_path):\n",
    "            print(f'Extraindo {file}...')\n",
    "            try:\n",
    "                zip_obj.extract(file, 'data/raw')\n",
    "            except zipfile.BadZipFile:\n",
    "                print(f\"Erro: O arquivo {planilha}.zip está corrompido.\")\n",
    "            except Exception as e:\n",
    "                print(f\"Erro ao extrair {file}: {e}\")\n",
    "\n",
    "    zip_obj.close()"
   ]
  },
  {
   "cell_type": "markdown",
   "metadata": {},
   "source": [
    "### Criando dataframe"
   ]
  },
  {
   "cell_type": "code",
   "execution_count": 6,
   "metadata": {},
   "outputs": [
    {
     "name": "stdout",
     "output_type": "stream",
     "text": [
      "Processado o arquivo planilha_201206.csv\n",
      "Processado o arquivo planilha_201207.csv\n",
      "Processado o arquivo planilha_201208.csv\n",
      "Processado o arquivo planilha_201209.csv\n",
      "Processado o arquivo planilha_201210.csv\n",
      "Processado o arquivo planilha_201211.csv\n",
      "Processado o arquivo planilha_201212.csv\n",
      "Processado o arquivo planilha_201301.csv\n",
      "Processado o arquivo planilha_201302.csv\n",
      "Processado o arquivo planilha_201303.csv\n",
      "Processado o arquivo planilha_201304.csv\n",
      "Processado o arquivo planilha_201305.csv\n",
      "Processado o arquivo planilha_201306.csv\n",
      "Processado o arquivo planilha_201307.csv\n",
      "Processado o arquivo planilha_201308.csv\n",
      "Processado o arquivo planilha_201309.csv\n",
      "Processado o arquivo planilha_201310.csv\n",
      "Processado o arquivo planilha_201311.csv\n",
      "Processado o arquivo planilha_201312.csv\n",
      "Processado o arquivo planilha_201401.csv\n",
      "Processado o arquivo planilha_201402.csv\n",
      "Processado o arquivo planilha_201403.csv\n",
      "Processado o arquivo planilha_201404.csv\n",
      "Processado o arquivo planilha_201405.csv\n",
      "Processado o arquivo planilha_201406.csv\n",
      "Processado o arquivo planilha_201407.csv\n",
      "Processado o arquivo planilha_201408.csv\n",
      "Processado o arquivo planilha_201409.csv\n",
      "Processado o arquivo planilha_201410.csv\n",
      "Processado o arquivo planilha_201411.csv\n",
      "Processado o arquivo planilha_201412.csv\n",
      "Processado o arquivo planilha_201501.csv\n",
      "Processado o arquivo planilha_201502.csv\n",
      "Processado o arquivo planilha_201503.csv\n",
      "Processado o arquivo planilha_201504.csv\n",
      "Processado o arquivo planilha_201505.csv\n",
      "Processado o arquivo planilha_201506.csv\n",
      "Processado o arquivo planilha_201507.csv\n",
      "Processado o arquivo planilha_201508.csv\n",
      "Processado o arquivo planilha_201509.csv\n",
      "Processado o arquivo planilha_201510.csv\n",
      "Processado o arquivo planilha_201511.csv\n",
      "Processado o arquivo planilha_201512.csv\n",
      "Processado o arquivo planilha_201601.csv\n",
      "Processado o arquivo planilha_201602.csv\n",
      "Processado o arquivo planilha_201603.csv\n",
      "Processado o arquivo planilha_201604.csv\n",
      "Processado o arquivo planilha_201605.csv\n",
      "Processado o arquivo planilha_201606.csv\n",
      "Processado o arquivo planilha_201607.csv\n",
      "Processado o arquivo planilha_201608.csv\n",
      "Processado o arquivo planilha_201609.csv\n",
      "Processado o arquivo planilha_201610.csv\n",
      "Processado o arquivo planilha_201611.csv\n",
      "Processado o arquivo planilha_201612.csv\n",
      "Processado o arquivo planilha_201701.csv\n",
      "Processado o arquivo planilha_201702.csv\n",
      "Processado o arquivo planilha_201703.csv\n",
      "Processado o arquivo planilha_201704.csv\n",
      "Processado o arquivo planilha_201705.csv\n",
      "Processado o arquivo planilha_201706.csv\n",
      "Processado o arquivo planilha_201707.csv\n",
      "Processado o arquivo planilha_201708.csv\n",
      "Processado o arquivo planilha_201709.csv\n",
      "Processado o arquivo planilha_201710.csv\n",
      "Processado o arquivo planilha_201711.csv\n",
      "Processado o arquivo planilha_201712.csv\n",
      "Processado o arquivo planilha_201801.csv\n",
      "Processado o arquivo planilha_201802.csv\n",
      "Processado o arquivo planilha_201803.csv\n",
      "Processado o arquivo planilha_201804.csv\n",
      "Processado o arquivo planilha_201805.csv\n",
      "Processado o arquivo planilha_201806.csv\n",
      "Processado o arquivo planilha_201807.csv\n",
      "Processado o arquivo planilha_201808.csv\n",
      "Processado o arquivo planilha_201809.csv\n",
      "Processado o arquivo planilha_201810.csv\n",
      "Processado o arquivo planilha_201811.csv\n",
      "Processado o arquivo planilha_201812.csv\n",
      "Processado o arquivo planilha_201901.csv\n",
      "Processado o arquivo planilha_201902.csv\n",
      "Processado o arquivo planilha_201903.csv\n",
      "Processado o arquivo planilha_201904.csv\n",
      "Processado o arquivo planilha_201905.csv\n",
      "Processado o arquivo planilha_201906.csv\n",
      "Processado o arquivo planilha_201907.csv\n",
      "Processado o arquivo planilha_201908.csv\n",
      "Processado o arquivo planilha_201909.csv\n",
      "Processado o arquivo planilha_201910.csv\n",
      "Processado o arquivo planilha_201911.csv\n",
      "Processado o arquivo planilha_201912.csv\n",
      "Processado o arquivo planilha_202001.csv\n",
      "Processado o arquivo planilha_202002.csv\n",
      "Processado o arquivo planilha_202003.csv\n",
      "Processado o arquivo planilha_202004.csv\n",
      "Processado o arquivo planilha_202005.csv\n",
      "Processado o arquivo planilha_202006.csv\n",
      "Processado o arquivo planilha_202007.csv\n",
      "Processado o arquivo planilha_202008.csv\n",
      "Processado o arquivo planilha_202009.csv\n",
      "Processado o arquivo planilha_202010.csv\n",
      "Processado o arquivo planilha_202011.csv\n",
      "Processado o arquivo planilha_202012.csv\n",
      "Processado o arquivo planilha_202101.csv\n",
      "Processado o arquivo planilha_202102.csv\n",
      "Processado o arquivo planilha_202103.csv\n",
      "Processado o arquivo planilha_202104.csv\n",
      "Processado o arquivo planilha_202105.csv\n",
      "Processado o arquivo planilha_202106.csv\n",
      "Processado o arquivo planilha_202107.csv\n",
      "Processado o arquivo planilha_202108.csv\n",
      "Processado o arquivo planilha_202109.csv\n",
      "Processado o arquivo planilha_202110.csv\n",
      "Processado o arquivo planilha_202111.csv\n",
      "Processado o arquivo planilha_202112.csv\n",
      "Processado o arquivo planilha_202201.csv\n",
      "Processado o arquivo planilha_202202.csv\n",
      "Processado o arquivo planilha_202203.csv\n",
      "Processado o arquivo planilha_202204.csv\n",
      "Processado o arquivo planilha_202205.csv\n",
      "Processado o arquivo planilha_202206.csv\n",
      "Processado o arquivo planilha_202207.csv\n",
      "Processado o arquivo planilha_202208.csv\n",
      "Processado o arquivo planilha_202209.csv\n",
      "Processado o arquivo planilha_202210.csv\n",
      "Processado o arquivo planilha_202211.csv\n",
      "Processado o arquivo planilha_202212.csv\n",
      "Processado o arquivo planilha_202301.csv\n",
      "Processado o arquivo planilha_202302.csv\n",
      "Processado o arquivo planilha_202303.csv\n",
      "Processado o arquivo planilha_202304.csv\n",
      "Processado o arquivo planilha_202305.csv\n",
      "Processado o arquivo planilha_202306.csv\n",
      "Processado o arquivo planilha_202307.csv\n",
      "Processado o arquivo planilha_202308.csv\n",
      "Processado o arquivo planilha_202309.csv\n",
      "Processado o arquivo planilha_202310.csv\n",
      "Processado o arquivo planilha_202311.csv\n",
      "Processado o arquivo planilha_202312.csv\n",
      "Processado o arquivo planilha_202401.csv\n",
      "Processado o arquivo planilha_202402.csv\n",
      "Processado o arquivo planilha_202403.csv\n",
      "Processado o arquivo planilha_202404.csv\n",
      "Processado o arquivo planilha_202405.csv\n",
      "Processado o arquivo planilha_202406.csv\n",
      "Processado o arquivo planilha_202407.csv\n"
     ]
    }
   ],
   "source": [
    "files = os.listdir('data/raw')\n",
    "files.sort()\n",
    "df = pd.DataFrame()\n",
    "for file in files:\n",
    "    temp_df = pd.read_csv(f'data/raw/{file}', sep=';', encoding='utf-8-sig', nrows=15000)\n",
    "    df = pd.concat([df, temp_df])\n",
    "    print(f'Processado o arquivo {file}')"
   ]
  },
  {
   "cell_type": "markdown",
   "metadata": {},
   "source": [
    "### Ajuste de tipagem dos dados"
   ]
  },
  {
   "cell_type": "code",
   "execution_count": 7,
   "metadata": {},
   "outputs": [],
   "source": [
    "for column in df.columns:\n",
    "\tif column in FLOAT_COLS:\n",
    "\t\tdf = convert_float_dtype(df=df, column=column)\n",
    "\t\tdf = df.rename(columns={column: \"vl_\" + column.lower()})\n",
    "\telif column in CATEGORY_COLS:\n",
    "\t\tdf = convert_category_dtype(df=df, column=column)\n",
    "\t\tdf = df.rename(columns={column: \"ct_\" + column.lower()})\n",
    "\telif column in INT_COLS:\n",
    "\t\tdf = convert_int_dtype(df=df, column=column)\n",
    "\t\tdf = df.rename(columns={column: \"nu_\" + column.lower()})"
   ]
  },
  {
   "cell_type": "code",
   "execution_count": 8,
   "metadata": {},
   "outputs": [
    {
     "data": {
      "text/plain": [
       "data_base                              object\n",
       "ct_uf                                category\n",
       "ct_tcb                               category\n",
       "ct_sr                                category\n",
       "ct_cliente                           category\n",
       "ct_ocupacao                          category\n",
       "ct_cnae_secao                        category\n",
       "ct_cnae_subclasse                    category\n",
       "ct_porte                             category\n",
       "ct_modalidade                        category\n",
       "ct_origem                            category\n",
       "ct_indexador                         category\n",
       "nu_numero_de_operacoes                  int64\n",
       "vl_a_vencer_ate_90_dias               float64\n",
       "vl_a_vencer_de_91_ate_360_dias        float64\n",
       "vl_a_vencer_de_361_ate_1080_dias      float64\n",
       "vl_a_vencer_de_1081_ate_1800_dias     float64\n",
       "vl_a_vencer_de_1801_ate_5400_dias     float64\n",
       "vl_a_vencer_acima_de_5400_dias        float64\n",
       "vl_vencido_acima_de_15_dias           float64\n",
       "vl_carteira_ativa                     float64\n",
       "vl_carteira_inadimplida_arrastada     float64\n",
       "vl_ativo_problematico                 float64\n",
       "dtype: object"
      ]
     },
     "execution_count": 8,
     "metadata": {},
     "output_type": "execute_result"
    }
   ],
   "source": [
    "df.dtypes"
   ]
  },
  {
   "cell_type": "code",
   "execution_count": 9,
   "metadata": {},
   "outputs": [],
   "source": [
    "df['dt_data_base'] = pd.to_datetime(df['data_base'].copy(), format=\"%Y-%m-%d\")\n",
    "df.drop(columns=['data_base'], inplace=True)"
   ]
  },
  {
   "cell_type": "code",
   "execution_count": 10,
   "metadata": {},
   "outputs": [
    {
     "data": {
      "text/plain": [
       "'datetime64[ns]'"
      ]
     },
     "execution_count": 10,
     "metadata": {},
     "output_type": "execute_result"
    }
   ],
   "source": [
    "df['dt_data_base'].dtype.name"
   ]
  },
  {
   "cell_type": "code",
   "execution_count": 11,
   "metadata": {},
   "outputs": [
    {
     "data": {
      "text/plain": [
       "ct_porte\n",
       "PJ - Micro                                       669342\n",
       "PJ - Pequeno                                     563754\n",
       "PJ - Médio                                       288752\n",
       "PF - Mais de 5 a 10 salários mínimos              88965\n",
       "PF - Mais de 3 a 5 salários mínimos               85810\n",
       "PF - Mais de 1 a 2 salários mínimos               83242\n",
       "PF - Mais de 2 a 3 salários mínimos               81845\n",
       "PF - Mais de 10 a 20 salários mínimos             80033\n",
       "PF - Acima de 20 salários mínimos                 75983\n",
       "PF - Até 1 salário mínimo                         69558\n",
       "PF - Sem rendimento                               38010\n",
       "PJ - Grande                                       27588\n",
       "PF - Indisponível                                 23280\n",
       "PJ - Indisponível                                 13838\n",
       "Name: count, dtype: int64"
      ]
     },
     "execution_count": 11,
     "metadata": {},
     "output_type": "execute_result"
    }
   ],
   "source": [
    "df['ct_porte'].value_counts()"
   ]
  },
  {
   "cell_type": "markdown",
   "metadata": {},
   "source": [
    "### Vamos separar coluna ct_porte em duas colunas:\n",
    "\n",
    "ct_classificacao , que é o substring(0:2) de ct_porte\n",
    "\n",
    "ct_tamanho , que é o substring(5:) de ct_porte"
   ]
  },
  {
   "cell_type": "code",
   "execution_count": 12,
   "metadata": {},
   "outputs": [],
   "source": [
    "df['ct_classificacao'] = df['ct_porte'].apply(lambda x: x[0:2]).astype('category')\n",
    "df['ct_porte'] = df['ct_porte'].apply(lambda x: x[5:].strip()).astype('category')"
   ]
  },
  {
   "cell_type": "code",
   "execution_count": 13,
   "metadata": {},
   "outputs": [
    {
     "data": {
      "text/plain": [
       "ct_modalidade\n",
       "PJ - Capital de giro                                                              391649\n",
       "PJ - Outros créditos                                                              339850\n",
       "PJ - Cheque especial e conta garantida                                            274245\n",
       "PJ - Investimento                                                                 220932\n",
       "PJ - Financiamento de infraestrutura/desenvolvimento/projeto e outros créditos    208129\n",
       "PF - Outros créditos                                                              152418\n",
       "PJ - Operações com recebíveis                                                     109568\n",
       "PF - Cartão de crédito                                                            106873\n",
       "PF - Empréstimo sem consignação em folha                                          101216\n",
       "PF - Empréstimo com consignação em folha                                           78727\n",
       "PF - Veículos                                                                      72736\n",
       "PF - Rural e agroindustrial                                                        59237\n",
       "PF - Habitacional                                                                  55519\n",
       "PJ - Habitacional                                                                   6266\n",
       "PJ - Capital de giro rotativo                                                       5141\n",
       "PJ - Rural e agroindustrial                                                         3794\n",
       "PJ - Comércio exterior                                                              3700\n",
       "Name: count, dtype: int64"
      ]
     },
     "execution_count": 13,
     "metadata": {},
     "output_type": "execute_result"
    }
   ],
   "source": [
    "df['ct_modalidade'].value_counts()"
   ]
  },
  {
   "cell_type": "code",
   "execution_count": 14,
   "metadata": {},
   "outputs": [],
   "source": [
    "df['ct_modalidade'] = df['ct_modalidade'].apply(lambda x: x[5:].strip()).astype('category')"
   ]
  },
  {
   "cell_type": "code",
   "execution_count": 15,
   "metadata": {},
   "outputs": [
    {
     "data": {
      "text/plain": [
       "ct_ocupacao\n",
       "-                                                  1563274\n",
       "PF - Outros                                         116780\n",
       "PF - Servidor ou empregado público                   98260\n",
       "PF - Empresário                                      92430\n",
       "PF - Autônomo                                        87336\n",
       "PF - Empregado de empresa privada                    85104\n",
       "PF - Aposentado/pensionista                          82621\n",
       "PF - MEI                                             37027\n",
       "PF - Empregado de entidades sem fins lucrativos      27168\n",
       "Name: count, dtype: int64"
      ]
     },
     "execution_count": 15,
     "metadata": {},
     "output_type": "execute_result"
    }
   ],
   "source": [
    "df['ct_ocupacao'].value_counts()"
   ]
  },
  {
   "cell_type": "code",
   "execution_count": 16,
   "metadata": {},
   "outputs": [],
   "source": [
    "df['ct_ocupacao'] = df['ct_ocupacao'].apply(lambda x: x[5:].strip()).astype('category')"
   ]
  },
  {
   "cell_type": "code",
   "execution_count": 17,
   "metadata": {},
   "outputs": [
    {
     "data": {
      "text/plain": [
       "count      2190000.00\n",
       "mean       2439018.73\n",
       "std       24629714.65\n",
       "min              0.01\n",
       "25%          12727.54\n",
       "50%          66187.07\n",
       "75%         330177.21\n",
       "max     2088395883.83\n",
       "Name: vl_carteira_ativa, dtype: float64"
      ]
     },
     "execution_count": 17,
     "metadata": {},
     "output_type": "execute_result"
    }
   ],
   "source": [
    "df['vl_carteira_ativa'].describe()"
   ]
  },
  {
   "cell_type": "markdown",
   "metadata": {},
   "source": [
    "### Exportando para zona Trusted"
   ]
  },
  {
   "cell_type": "code",
   "execution_count": 18,
   "metadata": {},
   "outputs": [],
   "source": [
    "export_to_parquet(df, 'data/trusted')"
   ]
  },
  {
   "cell_type": "code",
   "execution_count": 19,
   "metadata": {},
   "outputs": [],
   "source": [
    "df['vl_carteira_ativa_n_arrastada'] = df['vl_carteira_ativa'] - df['vl_carteira_inadimplida_arrastada']"
   ]
  },
  {
   "cell_type": "code",
   "execution_count": 20,
   "metadata": {},
   "outputs": [
    {
     "data": {
      "text/plain": [
       "count      2190000.00\n",
       "mean       2346042.91\n",
       "std       24145767.41\n",
       "min              0.00\n",
       "25%           9533.15\n",
       "50%          56521.72\n",
       "75%         300619.19\n",
       "max     2088395883.83\n",
       "Name: vl_carteira_ativa_n_arrastada, dtype: float64"
      ]
     },
     "execution_count": 20,
     "metadata": {},
     "output_type": "execute_result"
    }
   ],
   "source": [
    "df['vl_carteira_ativa_n_arrastada'].describe()"
   ]
  },
  {
   "cell_type": "code",
   "execution_count": 21,
   "metadata": {},
   "outputs": [
    {
     "data": {
      "text/plain": [
       "ct_uf                                      category\n",
       "ct_tcb                                     category\n",
       "ct_sr                                      category\n",
       "ct_cliente                                 category\n",
       "ct_ocupacao                                category\n",
       "ct_cnae_secao                              category\n",
       "ct_cnae_subclasse                          category\n",
       "ct_porte                                   category\n",
       "ct_modalidade                              category\n",
       "ct_origem                                  category\n",
       "ct_indexador                               category\n",
       "nu_numero_de_operacoes                        int64\n",
       "vl_a_vencer_ate_90_dias                     float64\n",
       "vl_a_vencer_de_91_ate_360_dias              float64\n",
       "vl_a_vencer_de_361_ate_1080_dias            float64\n",
       "vl_a_vencer_de_1081_ate_1800_dias           float64\n",
       "vl_a_vencer_de_1801_ate_5400_dias           float64\n",
       "vl_a_vencer_acima_de_5400_dias              float64\n",
       "vl_vencido_acima_de_15_dias                 float64\n",
       "vl_carteira_ativa                           float64\n",
       "vl_carteira_inadimplida_arrastada           float64\n",
       "vl_ativo_problematico                       float64\n",
       "dt_data_base                         datetime64[ns]\n",
       "ct_classificacao                           category\n",
       "vl_carteira_ativa_n_arrastada               float64\n",
       "dtype: object"
      ]
     },
     "execution_count": 21,
     "metadata": {},
     "output_type": "execute_result"
    }
   ],
   "source": [
    "df.dtypes"
   ]
  },
  {
   "cell_type": "code",
   "execution_count": 22,
   "metadata": {},
   "outputs": [
    {
     "name": "stdout",
     "output_type": "stream",
     "text": [
      "57704\n",
      "340110\n",
      "1338061\n",
      "1804485\n",
      "737369\n",
      "1971449\n"
     ]
    }
   ],
   "source": [
    "print((df['vl_a_vencer_acima_de_5400_dias'] != 0.00).sum())\n",
    "print((df['vl_a_vencer_de_1801_ate_5400_dias'] != 0.00).sum())\n",
    "print((df['vl_a_vencer_de_361_ate_1080_dias'] != 0.00).sum())\n",
    "print((df['vl_a_vencer_de_91_ate_360_dias'] != 0.00).sum())\n",
    "print((df['vl_a_vencer_de_1081_ate_1800_dias'] != 0.00).sum())\n",
    "print((df['vl_a_vencer_ate_90_dias'] != 0.00).sum())"
   ]
  },
  {
   "cell_type": "code",
   "execution_count": 23,
   "metadata": {},
   "outputs": [],
   "source": [
    "CONVERSAO_FAIXAS = {\n",
    "\t'vl_a_vencer_acima_de_5400_dias': '> 180',\n",
    " \t'vl_a_vencer_de_1801_ate_5400_dias': '36-180',\n",
    "\t'vl_a_vencer_de_1081_ate_1800_dias': '18-36',\n",
    "\t'vl_a_vencer_de_361_ate_1080_dias': '12-18',\n",
    "\t'vl_a_vencer_de_91_ate_360_dias': '3-12',\n",
    "\t'vl_a_vencer_ate_90_dias': '0-3',\n",
    "}\n",
    "\n",
    "def calcula_range(row):\n",
    "    for col, val in CONVERSAO_FAIXAS.items():\n",
    "        if row[col] != 0.00:\n",
    "            return val\n",
    "    return None\n",
    "\n",
    "df['ct_faixa_meses_ate_vencimento'] = df.apply(calcula_range, axis=1).astype('category')"
   ]
  },
  {
   "cell_type": "code",
   "execution_count": 24,
   "metadata": {},
   "outputs": [
    {
     "data": {
      "text/plain": [
       "ct_faixa_meses_ate_vencimento\n",
       "12-18     603759\n",
       "3-12      482856\n",
       "18-36     401803\n",
       "36-180    285139\n",
       "0-3       253990\n",
       "> 180      57704\n",
       "Name: count, dtype: int64"
      ]
     },
     "execution_count": 24,
     "metadata": {},
     "output_type": "execute_result"
    }
   ],
   "source": [
    "df['ct_faixa_meses_ate_vencimento'].value_counts()"
   ]
  },
  {
   "cell_type": "code",
   "execution_count": 25,
   "metadata": {},
   "outputs": [],
   "source": [
    "df['vl_media_carteira_ativa_por_operacao'] = df['vl_carteira_ativa'] / df['nu_numero_de_operacoes']"
   ]
  },
  {
   "cell_type": "code",
   "execution_count": 26,
   "metadata": {},
   "outputs": [
    {
     "data": {
      "text/plain": [
       "count     2190000.00\n",
       "mean        36578.75\n",
       "std        826862.60\n",
       "min             0.00\n",
       "25%           708.67\n",
       "50%          2937.60\n",
       "75%         11163.86\n",
       "max     139226392.26\n",
       "Name: vl_media_carteira_ativa_por_operacao, dtype: float64"
      ]
     },
     "execution_count": 26,
     "metadata": {},
     "output_type": "execute_result"
    }
   ],
   "source": [
    "df['vl_media_carteira_ativa_por_operacao'].describe()"
   ]
  },
  {
   "cell_type": "markdown",
   "metadata": {},
   "source": [
    "### Exportando para zona Refined"
   ]
  },
  {
   "cell_type": "code",
   "execution_count": 27,
   "metadata": {},
   "outputs": [],
   "source": [
    "export_to_parquet(df, 'data/refined')"
   ]
  }
 ],
 "metadata": {
  "kernelspec": {
   "display_name": "Python 3",
   "language": "python",
   "name": "python3"
  },
  "language_info": {
   "codemirror_mode": {
    "name": "ipython",
    "version": 3
   },
   "file_extension": ".py",
   "mimetype": "text/x-python",
   "name": "python",
   "nbconvert_exporter": "python",
   "pygments_lexer": "ipython3",
   "version": "3.10.12"
  }
 },
 "nbformat": 4,
 "nbformat_minor": 2
}
