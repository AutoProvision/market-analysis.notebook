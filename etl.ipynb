{
 "cells": [
  {
   "cell_type": "markdown",
   "metadata": {},
   "source": [
    "### Extração Manual"
   ]
  },
  {
   "cell_type": "code",
   "execution_count": 116,
   "metadata": {},
   "outputs": [],
   "source": [
    "%%capture\n",
    "%pip install pandas matplotlib requests fastparquet"
   ]
  },
  {
   "cell_type": "code",
   "execution_count": 117,
   "metadata": {},
   "outputs": [],
   "source": [
    "import zipfile, requests, os\n",
    "import pandas as pd\n",
    "import matplotlib.pyplot as plt\n",
    "import fastparquet\n",
    "\n",
    "pd.options.display.float_format = '{:.2f}'.format"
   ]
  },
  {
   "cell_type": "code",
   "execution_count": 118,
   "metadata": {},
   "outputs": [],
   "source": [
    "FLOAT_COLS = [\n",
    "    \"a_vencer_ate_90_dias\",\n",
    "    \"a_vencer_de_91_ate_360_dias\",\n",
    "    \"a_vencer_de_361_ate_1080_dias\",\n",
    "    \"a_vencer_de_1081_ate_1800_dias\",\n",
    "    \"a_vencer_de_1801_ate_5400_dias\",\n",
    "    \"a_vencer_acima_de_5400_dias\",\n",
    "    \"vencido_acima_de_15_dias\",\n",
    "    \"carteira_ativa\",\n",
    "    \"carteira_inadimplida_arrastada\",\n",
    "    \"ativo_problematico\"\n",
    "]\n",
    "\n",
    "CATEGORY_COLS = [\n",
    "    'uf',\n",
    "    'tcb',\n",
    "    'sr',\n",
    "    'cliente'\n",
    "    'ocupacao',\n",
    "    'cnae_secao',\n",
    "    'cnae_subclasse',\n",
    "    'cliente', \n",
    "    'ocupacao',\n",
    "    'porte',\n",
    "    'modalidade',\n",
    "    'origem',\n",
    "    'indexador'\n",
    "]\n",
    "\n",
    "INT_COLS = [\n",
    "    'numero_de_operacoes'\n",
    "]\n",
    "\n",
    "def convert_category_dtype(df: pd.DataFrame, column: str):\n",
    "\n",
    "    df[column] = df[column].astype('category')\n",
    "\n",
    "    return df\n",
    "\n",
    "def convert_float_dtype(df: pd.DataFrame, column: str):\n",
    "\n",
    "    df[column] = df[column].apply(lambda x : str(x).replace(\",\",\".\"))\n",
    "    df[column] = df[column].astype('float64')\n",
    "\n",
    "    return df\n",
    "\n",
    "def convert_int_dtype(df: pd.DataFrame, column: str):\n",
    "\n",
    "    df[column] = df[column].apply(lambda x : str(x).replace(\"<= 15\",\"15\"))\n",
    "    df[column] = df[column].astype(int)\n",
    "\n",
    "    return df"
   ]
  },
  {
   "cell_type": "code",
   "execution_count": 119,
   "metadata": {},
   "outputs": [],
   "source": [
    "planilhas = [\n",
    "\t'planilha_2012',\n",
    "\t'planilha_2013',\n",
    "\t'planilha_2014',\n",
    "\t'planilha_2015',\n",
    "\t'planilha_2016',\n",
    "\t'planilha_2017',\n",
    "\t'planilha_2018',\n",
    "\t'planilha_2019',\n",
    "\t'planilha_2020',\n",
    "\t'planilha_2021',\n",
    "\t'planilha_2022',\n",
    "\t'planilha_2023',\n",
    "\t'planilha_2024'\n",
    "]\n",
    "\n",
    "for planilha in planilhas:\n",
    "\tif not os.path.exists(f'data/{planilha}.zip'):\n",
    "\t\turl = f'https://www.bcb.gov.br/pda/desig/{planilha}.zip'\n",
    "\n",
    "\t\tresponse = requests.get(url)\n",
    "\n",
    "\t\twith open(f'data/{planilha}.zip', 'wb') as f:\n",
    "\t\t\tf.write(response.content)"
   ]
  },
  {
   "cell_type": "code",
   "execution_count": 120,
   "metadata": {},
   "outputs": [],
   "source": [
    "if not os.path.exists('data/planilhas'):\n",
    "\tfor planilha in planilhas:\n",
    "\t\tzip_obj = zipfile.ZipFile(f'data/{planilha}.zip', 'r')\n",
    "\t\tzip_obj.extractall(f'data/planilhas')\n",
    "\t\tprint(f'Extraído {planilha}')"
   ]
  },
  {
   "cell_type": "code",
   "execution_count": 121,
   "metadata": {},
   "outputs": [
    {
     "name": "stdout",
     "output_type": "stream",
     "text": [
      "Processado o arquivo planilha_201206.csv, com 15000 linhas e 23 colunas\n",
      "Processado o arquivo planilha_201207.csv, com 15000 linhas e 23 colunas\n",
      "Processado o arquivo planilha_201208.csv, com 15000 linhas e 23 colunas\n",
      "Processado o arquivo planilha_201209.csv, com 15000 linhas e 23 colunas\n",
      "Processado o arquivo planilha_201210.csv, com 15000 linhas e 23 colunas\n",
      "Processado o arquivo planilha_201211.csv, com 15000 linhas e 23 colunas\n",
      "Processado o arquivo planilha_201212.csv, com 15000 linhas e 23 colunas\n",
      "Processado o arquivo planilha_201301.csv, com 15000 linhas e 23 colunas\n",
      "Processado o arquivo planilha_201302.csv, com 15000 linhas e 23 colunas\n",
      "Processado o arquivo planilha_201303.csv, com 15000 linhas e 23 colunas\n",
      "Processado o arquivo planilha_201304.csv, com 15000 linhas e 23 colunas\n",
      "Processado o arquivo planilha_201305.csv, com 15000 linhas e 23 colunas\n",
      "Processado o arquivo planilha_201306.csv, com 15000 linhas e 23 colunas\n",
      "Processado o arquivo planilha_201307.csv, com 15000 linhas e 23 colunas\n",
      "Processado o arquivo planilha_201308.csv, com 15000 linhas e 23 colunas\n",
      "Processado o arquivo planilha_201309.csv, com 15000 linhas e 23 colunas\n",
      "Processado o arquivo planilha_201310.csv, com 15000 linhas e 23 colunas\n",
      "Processado o arquivo planilha_201311.csv, com 15000 linhas e 23 colunas\n",
      "Processado o arquivo planilha_201312.csv, com 15000 linhas e 23 colunas\n",
      "Processado o arquivo planilha_201401.csv, com 15000 linhas e 23 colunas\n",
      "Processado o arquivo planilha_201402.csv, com 15000 linhas e 23 colunas\n",
      "Processado o arquivo planilha_201403.csv, com 15000 linhas e 23 colunas\n",
      "Processado o arquivo planilha_201404.csv, com 15000 linhas e 23 colunas\n",
      "Processado o arquivo planilha_201405.csv, com 15000 linhas e 23 colunas\n",
      "Processado o arquivo planilha_201406.csv, com 15000 linhas e 23 colunas\n",
      "Processado o arquivo planilha_201407.csv, com 15000 linhas e 23 colunas\n",
      "Processado o arquivo planilha_201408.csv, com 15000 linhas e 23 colunas\n",
      "Processado o arquivo planilha_201409.csv, com 15000 linhas e 23 colunas\n",
      "Processado o arquivo planilha_201410.csv, com 15000 linhas e 23 colunas\n",
      "Processado o arquivo planilha_201411.csv, com 15000 linhas e 23 colunas\n",
      "Processado o arquivo planilha_201412.csv, com 15000 linhas e 23 colunas\n",
      "Processado o arquivo planilha_201501.csv, com 15000 linhas e 23 colunas\n",
      "Processado o arquivo planilha_201502.csv, com 15000 linhas e 23 colunas\n",
      "Processado o arquivo planilha_201503.csv, com 15000 linhas e 23 colunas\n",
      "Processado o arquivo planilha_201504.csv, com 15000 linhas e 23 colunas\n",
      "Processado o arquivo planilha_201505.csv, com 15000 linhas e 23 colunas\n",
      "Processado o arquivo planilha_201506.csv, com 15000 linhas e 23 colunas\n",
      "Processado o arquivo planilha_201507.csv, com 15000 linhas e 23 colunas\n",
      "Processado o arquivo planilha_201508.csv, com 15000 linhas e 23 colunas\n",
      "Processado o arquivo planilha_201509.csv, com 15000 linhas e 23 colunas\n",
      "Processado o arquivo planilha_201510.csv, com 15000 linhas e 23 colunas\n",
      "Processado o arquivo planilha_201511.csv, com 15000 linhas e 23 colunas\n",
      "Processado o arquivo planilha_201512.csv, com 15000 linhas e 23 colunas\n",
      "Processado o arquivo planilha_201601.csv, com 15000 linhas e 23 colunas\n",
      "Processado o arquivo planilha_201602.csv, com 15000 linhas e 23 colunas\n",
      "Processado o arquivo planilha_201603.csv, com 15000 linhas e 23 colunas\n",
      "Processado o arquivo planilha_201604.csv, com 15000 linhas e 23 colunas\n",
      "Processado o arquivo planilha_201605.csv, com 15000 linhas e 23 colunas\n",
      "Processado o arquivo planilha_201606.csv, com 15000 linhas e 23 colunas\n",
      "Processado o arquivo planilha_201607.csv, com 15000 linhas e 23 colunas\n",
      "Processado o arquivo planilha_201608.csv, com 15000 linhas e 23 colunas\n",
      "Processado o arquivo planilha_201609.csv, com 15000 linhas e 23 colunas\n",
      "Processado o arquivo planilha_201610.csv, com 15000 linhas e 23 colunas\n",
      "Processado o arquivo planilha_201611.csv, com 15000 linhas e 23 colunas\n",
      "Processado o arquivo planilha_201612.csv, com 15000 linhas e 23 colunas\n",
      "Processado o arquivo planilha_201701.csv, com 15000 linhas e 23 colunas\n",
      "Processado o arquivo planilha_201702.csv, com 15000 linhas e 23 colunas\n",
      "Processado o arquivo planilha_201703.csv, com 15000 linhas e 23 colunas\n",
      "Processado o arquivo planilha_201704.csv, com 15000 linhas e 23 colunas\n",
      "Processado o arquivo planilha_201705.csv, com 15000 linhas e 23 colunas\n",
      "Processado o arquivo planilha_201706.csv, com 15000 linhas e 23 colunas\n",
      "Processado o arquivo planilha_201707.csv, com 15000 linhas e 23 colunas\n",
      "Processado o arquivo planilha_201708.csv, com 15000 linhas e 23 colunas\n",
      "Processado o arquivo planilha_201709.csv, com 15000 linhas e 23 colunas\n",
      "Processado o arquivo planilha_201710.csv, com 15000 linhas e 23 colunas\n",
      "Processado o arquivo planilha_201711.csv, com 15000 linhas e 23 colunas\n",
      "Processado o arquivo planilha_201712.csv, com 15000 linhas e 23 colunas\n",
      "Processado o arquivo planilha_201801.csv, com 15000 linhas e 23 colunas\n",
      "Processado o arquivo planilha_201802.csv, com 15000 linhas e 23 colunas\n",
      "Processado o arquivo planilha_201803.csv, com 15000 linhas e 23 colunas\n",
      "Processado o arquivo planilha_201804.csv, com 15000 linhas e 23 colunas\n",
      "Processado o arquivo planilha_201805.csv, com 15000 linhas e 23 colunas\n",
      "Processado o arquivo planilha_201806.csv, com 15000 linhas e 23 colunas\n",
      "Processado o arquivo planilha_201807.csv, com 15000 linhas e 23 colunas\n",
      "Processado o arquivo planilha_201808.csv, com 15000 linhas e 23 colunas\n",
      "Processado o arquivo planilha_201809.csv, com 15000 linhas e 23 colunas\n",
      "Processado o arquivo planilha_201810.csv, com 15000 linhas e 23 colunas\n",
      "Processado o arquivo planilha_201811.csv, com 15000 linhas e 23 colunas\n",
      "Processado o arquivo planilha_201812.csv, com 15000 linhas e 23 colunas\n",
      "Processado o arquivo planilha_201901.csv, com 15000 linhas e 23 colunas\n",
      "Processado o arquivo planilha_201902.csv, com 15000 linhas e 23 colunas\n",
      "Processado o arquivo planilha_201903.csv, com 15000 linhas e 23 colunas\n",
      "Processado o arquivo planilha_201904.csv, com 15000 linhas e 23 colunas\n",
      "Processado o arquivo planilha_201905.csv, com 15000 linhas e 23 colunas\n",
      "Processado o arquivo planilha_201906.csv, com 15000 linhas e 23 colunas\n",
      "Processado o arquivo planilha_201907.csv, com 15000 linhas e 23 colunas\n",
      "Processado o arquivo planilha_201908.csv, com 15000 linhas e 23 colunas\n",
      "Processado o arquivo planilha_201909.csv, com 15000 linhas e 23 colunas\n",
      "Processado o arquivo planilha_201910.csv, com 15000 linhas e 23 colunas\n",
      "Processado o arquivo planilha_201911.csv, com 15000 linhas e 23 colunas\n",
      "Processado o arquivo planilha_201912.csv, com 15000 linhas e 23 colunas\n",
      "Processado o arquivo planilha_202001.csv, com 15000 linhas e 23 colunas\n",
      "Processado o arquivo planilha_202002.csv, com 15000 linhas e 23 colunas\n",
      "Processado o arquivo planilha_202003.csv, com 15000 linhas e 23 colunas\n",
      "Processado o arquivo planilha_202004.csv, com 15000 linhas e 23 colunas\n",
      "Processado o arquivo planilha_202005.csv, com 15000 linhas e 23 colunas\n",
      "Processado o arquivo planilha_202006.csv, com 15000 linhas e 23 colunas\n",
      "Processado o arquivo planilha_202007.csv, com 15000 linhas e 23 colunas\n",
      "Processado o arquivo planilha_202008.csv, com 15000 linhas e 23 colunas\n",
      "Processado o arquivo planilha_202009.csv, com 15000 linhas e 23 colunas\n",
      "Processado o arquivo planilha_202010.csv, com 15000 linhas e 23 colunas\n",
      "Processado o arquivo planilha_202011.csv, com 15000 linhas e 23 colunas\n",
      "Processado o arquivo planilha_202012.csv, com 15000 linhas e 23 colunas\n",
      "Processado o arquivo planilha_202101.csv, com 15000 linhas e 23 colunas\n",
      "Processado o arquivo planilha_202102.csv, com 15000 linhas e 23 colunas\n",
      "Processado o arquivo planilha_202103.csv, com 15000 linhas e 23 colunas\n",
      "Processado o arquivo planilha_202104.csv, com 15000 linhas e 23 colunas\n",
      "Processado o arquivo planilha_202105.csv, com 15000 linhas e 23 colunas\n",
      "Processado o arquivo planilha_202106.csv, com 15000 linhas e 23 colunas\n",
      "Processado o arquivo planilha_202107.csv, com 15000 linhas e 23 colunas\n",
      "Processado o arquivo planilha_202108.csv, com 15000 linhas e 23 colunas\n",
      "Processado o arquivo planilha_202109.csv, com 15000 linhas e 23 colunas\n",
      "Processado o arquivo planilha_202110.csv, com 15000 linhas e 23 colunas\n",
      "Processado o arquivo planilha_202111.csv, com 15000 linhas e 23 colunas\n",
      "Processado o arquivo planilha_202112.csv, com 15000 linhas e 23 colunas\n",
      "Processado o arquivo planilha_202201.csv, com 15000 linhas e 23 colunas\n",
      "Processado o arquivo planilha_202202.csv, com 15000 linhas e 23 colunas\n",
      "Processado o arquivo planilha_202203.csv, com 15000 linhas e 23 colunas\n",
      "Processado o arquivo planilha_202204.csv, com 15000 linhas e 23 colunas\n",
      "Processado o arquivo planilha_202205.csv, com 15000 linhas e 23 colunas\n",
      "Processado o arquivo planilha_202206.csv, com 15000 linhas e 23 colunas\n",
      "Processado o arquivo planilha_202207.csv, com 15000 linhas e 23 colunas\n",
      "Processado o arquivo planilha_202208.csv, com 15000 linhas e 23 colunas\n",
      "Processado o arquivo planilha_202209.csv, com 15000 linhas e 23 colunas\n",
      "Processado o arquivo planilha_202210.csv, com 15000 linhas e 23 colunas\n",
      "Processado o arquivo planilha_202211.csv, com 15000 linhas e 23 colunas\n",
      "Processado o arquivo planilha_202212.csv, com 15000 linhas e 23 colunas\n",
      "Processado o arquivo planilha_202301.csv, com 15000 linhas e 23 colunas\n",
      "Processado o arquivo planilha_202302.csv, com 15000 linhas e 23 colunas\n",
      "Processado o arquivo planilha_202303.csv, com 15000 linhas e 23 colunas\n",
      "Processado o arquivo planilha_202304.csv, com 15000 linhas e 23 colunas\n",
      "Processado o arquivo planilha_202305.csv, com 15000 linhas e 23 colunas\n",
      "Processado o arquivo planilha_202306.csv, com 15000 linhas e 23 colunas\n",
      "Processado o arquivo planilha_202307.csv, com 15000 linhas e 23 colunas\n",
      "Processado o arquivo planilha_202308.csv, com 15000 linhas e 23 colunas\n",
      "Processado o arquivo planilha_202309.csv, com 15000 linhas e 23 colunas\n",
      "Processado o arquivo planilha_202310.csv, com 15000 linhas e 23 colunas\n",
      "Processado o arquivo planilha_202311.csv, com 15000 linhas e 23 colunas\n",
      "Processado o arquivo planilha_202312.csv, com 15000 linhas e 23 colunas\n",
      "Processado o arquivo planilha_202401.csv, com 15000 linhas e 23 colunas\n",
      "Processado o arquivo planilha_202402.csv, com 15000 linhas e 23 colunas\n",
      "Processado o arquivo planilha_202403.csv, com 15000 linhas e 23 colunas\n",
      "Processado o arquivo planilha_202404.csv, com 15000 linhas e 23 colunas\n",
      "Processado o arquivo planilha_202405.csv, com 15000 linhas e 23 colunas\n",
      "Processado o arquivo planilha_202406.csv, com 15000 linhas e 23 colunas\n",
      "Processado o arquivo planilha_202407.csv, com 15000 linhas e 23 colunas\n"
     ]
    }
   ],
   "source": [
    "files = os.listdir('data/planilhas')\n",
    "files.sort()\n",
    "df = pd.DataFrame()\n",
    "for file in files:\n",
    "    temp_df = pd.read_csv(f'data/planilhas/{file}', sep=';', encoding='utf-8', nrows=15000)\n",
    "    df = pd.concat([df, temp_df])\n",
    "    print(f'Processado o arquivo {file}, com {len(temp_df)} linhas e {len(temp_df.columns)} colunas')"
   ]
  },
  {
   "cell_type": "code",
   "execution_count": 122,
   "metadata": {},
   "outputs": [],
   "source": [
    "if not os.path.exists('data/raw'):\n",
    "\tos.mkdir('data/raw')\n",
    "df.to_parquet('data/raw/df.parquet')"
   ]
  },
  {
   "cell_type": "markdown",
   "metadata": {},
   "source": [
    "## AJUSTE TIPAGEM DOS DADOS"
   ]
  },
  {
   "cell_type": "code",
   "execution_count": 123,
   "metadata": {},
   "outputs": [
    {
     "data": {
      "text/plain": [
       "0           616,49\n",
       "1         91240,63\n",
       "2          1959,96\n",
       "3        411759,93\n",
       "4        115456,50\n",
       "           ...    \n",
       "14995      5415,94\n",
       "14996         0,00\n",
       "14997       486,95\n",
       "14998     20049,84\n",
       "14999         0,00\n",
       "Name: carteira_inadimplida_arrastada, Length: 2190000, dtype: object"
      ]
     },
     "execution_count": 123,
     "metadata": {},
     "output_type": "execute_result"
    }
   ],
   "source": [
    "df['uf']\n",
    "df['carteira_inadimplida_arrastada']"
   ]
  },
  {
   "cell_type": "code",
   "execution_count": 124,
   "metadata": {},
   "outputs": [],
   "source": [
    "df['data_base'] = pd.to_datetime(df['data_base'], format=\"%Y-%m-%d\")\n",
    "\n",
    "for column in df.columns:\n",
    "\n",
    "\tif column in FLOAT_COLS:\n",
    "\t\tdf = convert_float_dtype(df=df, column=column)\n",
    "\t\tdf = df.rename(columns={column: \"vl_\" + column.lower()})\n",
    "\n",
    "\tif column in CATEGORY_COLS:\n",
    "\t\tdf = convert_category_dtype(df=df, column=column)\n",
    "\t\tdf = df.rename(columns={column: \"ct_\" + column.lower()})\n",
    "\n",
    "\tif column in INT_COLS:\n",
    "\t\tdf = convert_int_dtype(df=df, column=column)\n",
    "\t\tdf = df.rename(columns={column: \"nu_\" + column.lower()})"
   ]
  },
  {
   "cell_type": "code",
   "execution_count": 125,
   "metadata": {},
   "outputs": [
    {
     "data": {
      "text/plain": [
       "Index(['data_base', 'ct_uf', 'ct_tcb', 'ct_sr', 'ct_cliente', 'ct_ocupacao',\n",
       "       'ct_cnae_secao', 'ct_cnae_subclasse', 'ct_porte', 'ct_modalidade',\n",
       "       'ct_origem', 'ct_indexador', 'nu_numero_de_operacoes',\n",
       "       'vl_a_vencer_ate_90_dias', 'vl_a_vencer_de_91_ate_360_dias',\n",
       "       'vl_a_vencer_de_361_ate_1080_dias', 'vl_a_vencer_de_1081_ate_1800_dias',\n",
       "       'vl_a_vencer_de_1801_ate_5400_dias', 'vl_a_vencer_acima_de_5400_dias',\n",
       "       'vl_vencido_acima_de_15_dias', 'vl_carteira_ativa',\n",
       "       'vl_carteira_inadimplida_arrastada', 'vl_ativo_problematico',\n",
       "       '﻿data_base'],\n",
       "      dtype='object')"
      ]
     },
     "execution_count": 125,
     "metadata": {},
     "output_type": "execute_result"
    }
   ],
   "source": [
    "df.columns"
   ]
  },
  {
   "cell_type": "code",
   "execution_count": 126,
   "metadata": {},
   "outputs": [
    {
     "data": {
      "text/plain": [
       "ct_porte\n",
       "PJ - Micro                                       669342\n",
       "PJ - Pequeno                                     563754\n",
       "PJ - Médio                                       288752\n",
       "PF - Mais de 5 a 10 salários mínimos              88965\n",
       "PF - Mais de 3 a 5 salários mínimos               85810\n",
       "PF - Mais de 1 a 2 salários mínimos               83242\n",
       "PF - Mais de 2 a 3 salários mínimos               81845\n",
       "PF - Mais de 10 a 20 salários mínimos             80033\n",
       "PF - Acima de 20 salários mínimos                 75983\n",
       "PF - Até 1 salário mínimo                         69558\n",
       "PF - Sem rendimento                               38010\n",
       "PJ - Grande                                       27588\n",
       "PF - Indisponível                                 23280\n",
       "PJ - Indisponível                                 13838\n",
       "Name: count, dtype: int64"
      ]
     },
     "execution_count": 126,
     "metadata": {},
     "output_type": "execute_result"
    }
   ],
   "source": [
    "df['ct_porte'].value_counts()"
   ]
  },
  {
   "cell_type": "markdown",
   "metadata": {},
   "source": [
    "Vamos separar coluna ct_porte em duas colunas:\n",
    "\n",
    "ct_classificacao , que é o substring(0:2) de ct_porte\n",
    "\n",
    "ct_tamanho , que é o substring(5:) de ct_porte"
   ]
  },
  {
   "cell_type": "code",
   "execution_count": 127,
   "metadata": {},
   "outputs": [],
   "source": [
    "df['ct_classificacao'] = df['ct_porte'].apply(lambda x: x[0:2])\n",
    "df['ct_porte'] = df['ct_porte'].apply(lambda x: x[5:])"
   ]
  },
  {
   "cell_type": "code",
   "execution_count": 128,
   "metadata": {},
   "outputs": [
    {
     "data": {
      "text/plain": [
       "ct_modalidade\n",
       "PJ - Capital de giro                                                              391649\n",
       "PJ - Outros créditos                                                              339850\n",
       "PJ - Cheque especial e conta garantida                                            274245\n",
       "PJ - Investimento                                                                 220932\n",
       "PJ - Financiamento de infraestrutura/desenvolvimento/projeto e outros créditos    208129\n",
       "PF - Outros créditos                                                              152418\n",
       "PJ - Operações com recebíveis                                                     109568\n",
       "PF - Cartão de crédito                                                            106873\n",
       "PF - Empréstimo sem consignação em folha                                          101216\n",
       "PF - Empréstimo com consignação em folha                                           78727\n",
       "PF - Veículos                                                                      72736\n",
       "PF - Rural e agroindustrial                                                        59237\n",
       "PF - Habitacional                                                                  55519\n",
       "PJ - Habitacional                                                                   6266\n",
       "PJ - Capital de giro rotativo                                                       5141\n",
       "PJ - Rural e agroindustrial                                                         3794\n",
       "PJ - Comércio exterior                                                              3700\n",
       "Name: count, dtype: int64"
      ]
     },
     "execution_count": 128,
     "metadata": {},
     "output_type": "execute_result"
    }
   ],
   "source": [
    "df['ct_modalidade'].value_counts()"
   ]
  },
  {
   "cell_type": "code",
   "execution_count": 129,
   "metadata": {},
   "outputs": [],
   "source": [
    "df['ct_modalidade'] = df['ct_modalidade'].apply(lambda x: x[5:])"
   ]
  },
  {
   "cell_type": "code",
   "execution_count": 130,
   "metadata": {},
   "outputs": [
    {
     "data": {
      "text/plain": [
       "ct_ocupacao\n",
       "-                                                  1563274\n",
       "PF - Outros                                         116780\n",
       "PF - Servidor ou empregado público                   98260\n",
       "PF - Empresário                                      92430\n",
       "PF - Autônomo                                        87336\n",
       "PF - Empregado de empresa privada                    85104\n",
       "PF - Aposentado/pensionista                          82621\n",
       "PF - MEI                                             37027\n",
       "PF - Empregado de entidades sem fins lucrativos      27168\n",
       "Name: count, dtype: int64"
      ]
     },
     "execution_count": 130,
     "metadata": {},
     "output_type": "execute_result"
    }
   ],
   "source": [
    "df['ct_ocupacao'].value_counts()"
   ]
  },
  {
   "cell_type": "code",
   "execution_count": 131,
   "metadata": {},
   "outputs": [],
   "source": [
    "df['ct_ocupacao'] = df['ct_ocupacao'].apply(lambda x: x[5:])"
   ]
  },
  {
   "cell_type": "code",
   "execution_count": 132,
   "metadata": {},
   "outputs": [
    {
     "data": {
      "text/plain": [
       "count      2190000.00\n",
       "mean       2439018.73\n",
       "std       24629714.65\n",
       "min              0.01\n",
       "25%          12727.54\n",
       "50%          66187.07\n",
       "75%         330177.21\n",
       "max     2088395883.83\n",
       "Name: vl_carteira_ativa, dtype: float64"
      ]
     },
     "execution_count": 132,
     "metadata": {},
     "output_type": "execute_result"
    }
   ],
   "source": [
    "df['vl_carteira_ativa'].describe()"
   ]
  },
  {
   "cell_type": "code",
   "execution_count": 133,
   "metadata": {},
   "outputs": [],
   "source": [
    "df['vl_carteira_ativa_n_arrastada'] = df['vl_carteira_ativa'] - df['vl_carteira_inadimplida_arrastada']"
   ]
  },
  {
   "cell_type": "code",
   "execution_count": 134,
   "metadata": {},
   "outputs": [
    {
     "data": {
      "text/plain": [
       "count      2190000.00\n",
       "mean       2346042.91\n",
       "std       24145767.41\n",
       "min              0.00\n",
       "25%           9533.15\n",
       "50%          56521.72\n",
       "75%         300619.19\n",
       "max     2088395883.83\n",
       "Name: vl_carteira_ativa_n_arrastada, dtype: float64"
      ]
     },
     "execution_count": 134,
     "metadata": {},
     "output_type": "execute_result"
    }
   ],
   "source": [
    "df['vl_carteira_ativa_n_arrastada'].describe()"
   ]
  },
  {
   "cell_type": "code",
   "execution_count": 135,
   "metadata": {},
   "outputs": [
    {
     "data": {
      "text/plain": [
       "data_base                            datetime64[ns]\n",
       "ct_uf                                      category\n",
       "ct_tcb                                     category\n",
       "ct_sr                                      category\n",
       "ct_cliente                                 category\n",
       "ct_ocupacao                                category\n",
       "ct_cnae_secao                              category\n",
       "ct_cnae_subclasse                          category\n",
       "ct_porte                                     object\n",
       "ct_modalidade                                object\n",
       "ct_origem                                  category\n",
       "ct_indexador                               category\n",
       "nu_numero_de_operacoes                        int64\n",
       "vl_a_vencer_ate_90_dias                     float64\n",
       "vl_a_vencer_de_91_ate_360_dias              float64\n",
       "vl_a_vencer_de_361_ate_1080_dias            float64\n",
       "vl_a_vencer_de_1081_ate_1800_dias           float64\n",
       "vl_a_vencer_de_1801_ate_5400_dias           float64\n",
       "vl_a_vencer_acima_de_5400_dias              float64\n",
       "vl_vencido_acima_de_15_dias                 float64\n",
       "vl_carteira_ativa                           float64\n",
       "vl_carteira_inadimplida_arrastada           float64\n",
       "vl_ativo_problematico                       float64\n",
       "﻿data_base                                   object\n",
       "ct_classificacao                             object\n",
       "vl_carteira_ativa_n_arrastada               float64\n",
       "dtype: object"
      ]
     },
     "execution_count": 135,
     "metadata": {},
     "output_type": "execute_result"
    }
   ],
   "source": [
    "df.dtypes"
   ]
  },
  {
   "cell_type": "code",
   "execution_count": 136,
   "metadata": {},
   "outputs": [],
   "source": [
    "os.makedirs('data/trusted', exist_ok=True)\n",
    "df.to_parquet('data/trusted/df.parquet')"
   ]
  }
 ],
 "metadata": {
  "kernelspec": {
   "display_name": "Python 3",
   "language": "python",
   "name": "python3"
  },
  "language_info": {
   "codemirror_mode": {
    "name": "ipython",
    "version": 3
   },
   "file_extension": ".py",
   "mimetype": "text/x-python",
   "name": "python",
   "nbconvert_exporter": "python",
   "pygments_lexer": "ipython3",
   "version": "3.12.6"
  }
 },
 "nbformat": 4,
 "nbformat_minor": 2
}
