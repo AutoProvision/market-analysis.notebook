{
 "cells": [
  {
   "cell_type": "code",
   "execution_count": 113,
   "metadata": {},
   "outputs": [],
   "source": [
    "from common_imports import *"
   ]
  },
  {
   "cell_type": "code",
   "execution_count": 114,
   "metadata": {},
   "outputs": [],
   "source": [
    "df = pd.read_csv('data/raw/planilha_202107.csv', sep=';', encoding='utf-8-sig')"
   ]
  },
  {
   "cell_type": "code",
   "execution_count": 115,
   "metadata": {},
   "outputs": [],
   "source": [
    "df_14_char = df[df['carteira_ativa'] == '23550361722,20']"
   ]
  },
  {
   "cell_type": "code",
   "execution_count": 116,
   "metadata": {},
   "outputs": [
    {
     "data": {
      "text/html": [
       "<div>\n",
       "<style scoped>\n",
       "    .dataframe tbody tr th:only-of-type {\n",
       "        vertical-align: middle;\n",
       "    }\n",
       "\n",
       "    .dataframe tbody tr th {\n",
       "        vertical-align: top;\n",
       "    }\n",
       "\n",
       "    .dataframe thead th {\n",
       "        text-align: right;\n",
       "    }\n",
       "</style>\n",
       "<table border=\"1\" class=\"dataframe\">\n",
       "  <thead>\n",
       "    <tr style=\"text-align: right;\">\n",
       "      <th></th>\n",
       "      <th>data_base</th>\n",
       "      <th>uf</th>\n",
       "      <th>tcb</th>\n",
       "      <th>sr</th>\n",
       "      <th>cliente</th>\n",
       "      <th>ocupacao</th>\n",
       "      <th>cnae_secao</th>\n",
       "      <th>cnae_subclasse</th>\n",
       "      <th>porte</th>\n",
       "      <th>modalidade</th>\n",
       "      <th>...</th>\n",
       "      <th>a_vencer_ate_90_dias</th>\n",
       "      <th>a_vencer_de_91_ate_360_dias</th>\n",
       "      <th>a_vencer_de_361_ate_1080_dias</th>\n",
       "      <th>a_vencer_de_1081_ate_1800_dias</th>\n",
       "      <th>a_vencer_de_1801_ate_5400_dias</th>\n",
       "      <th>a_vencer_acima_de_5400_dias</th>\n",
       "      <th>vencido_acima_de_15_dias</th>\n",
       "      <th>carteira_ativa</th>\n",
       "      <th>carteira_inadimplida_arrastada</th>\n",
       "      <th>ativo_problematico</th>\n",
       "    </tr>\n",
       "  </thead>\n",
       "  <tbody>\n",
       "    <tr>\n",
       "      <th>671633</th>\n",
       "      <td>2021-07-31</td>\n",
       "      <td>SP</td>\n",
       "      <td>Bancário</td>\n",
       "      <td>S1</td>\n",
       "      <td>PF</td>\n",
       "      <td>PF - Empregado de empresa privada</td>\n",
       "      <td>-</td>\n",
       "      <td>-</td>\n",
       "      <td>PF - Mais de 3 a 5 salários mínimos</td>\n",
       "      <td>PF - Habitacional</td>\n",
       "      <td>...</td>\n",
       "      <td>614733561,40</td>\n",
       "      <td>1714674773,00</td>\n",
       "      <td>4010880003,13</td>\n",
       "      <td>3306781050,59</td>\n",
       "      <td>9576837776,64</td>\n",
       "      <td>4301258879,41</td>\n",
       "      <td>25195678,03</td>\n",
       "      <td>23550361722,20</td>\n",
       "      <td>235022747,14</td>\n",
       "      <td>785944896,88</td>\n",
       "    </tr>\n",
       "  </tbody>\n",
       "</table>\n",
       "<p>1 rows × 23 columns</p>\n",
       "</div>"
      ],
      "text/plain": [
       "         data_base  uf       tcb  sr cliente  \\\n",
       "671633  2021-07-31  SP  Bancário  S1      PF   \n",
       "\n",
       "                                 ocupacao cnae_secao cnae_subclasse  \\\n",
       "671633  PF - Empregado de empresa privada          -              -   \n",
       "\n",
       "                                                porte         modalidade  ...  \\\n",
       "671633  PF - Mais de 3 a 5 salários mínimos            PF - Habitacional  ...   \n",
       "\n",
       "       a_vencer_ate_90_dias a_vencer_de_91_ate_360_dias  \\\n",
       "671633         614733561,40               1714674773,00   \n",
       "\n",
       "       a_vencer_de_361_ate_1080_dias a_vencer_de_1081_ate_1800_dias  \\\n",
       "671633                 4010880003,13                  3306781050,59   \n",
       "\n",
       "       a_vencer_de_1801_ate_5400_dias a_vencer_acima_de_5400_dias  \\\n",
       "671633                  9576837776,64               4301258879,41   \n",
       "\n",
       "       vencido_acima_de_15_dias  carteira_ativa  \\\n",
       "671633              25195678,03  23550361722,20   \n",
       "\n",
       "       carteira_inadimplida_arrastada ativo_problematico  \n",
       "671633                   235022747,14       785944896,88  \n",
       "\n",
       "[1 rows x 23 columns]"
      ]
     },
     "execution_count": 116,
     "metadata": {},
     "output_type": "execute_result"
    }
   ],
   "source": [
    "df_14_char"
   ]
  },
  {
   "cell_type": "code",
   "execution_count": 117,
   "metadata": {},
   "outputs": [],
   "source": [
    "spark = SparkSession.builder.appName(\"Analise Operacoes Creditarias\").getOrCreate()"
   ]
  },
  {
   "cell_type": "code",
   "execution_count": 118,
   "metadata": {},
   "outputs": [],
   "source": [
    "df = spark.createDataFrame(df_14_char)"
   ]
  },
  {
   "cell_type": "code",
   "execution_count": 119,
   "metadata": {},
   "outputs": [
    {
     "name": "stdout",
     "output_type": "stream",
     "text": [
      "+----------+---+--------+---+-------+--------------------+----------+--------------+--------------------+-----------------+--------------------+----------+-------------------+--------------------+---------------------------+-----------------------------+------------------------------+------------------------------+---------------------------+------------------------+--------------+------------------------------+------------------+\n",
      "| data_base| uf|     tcb| sr|cliente|            ocupacao|cnae_secao|cnae_subclasse|               porte|       modalidade|              origem| indexador|numero_de_operacoes|a_vencer_ate_90_dias|a_vencer_de_91_ate_360_dias|a_vencer_de_361_ate_1080_dias|a_vencer_de_1081_ate_1800_dias|a_vencer_de_1801_ate_5400_dias|a_vencer_acima_de_5400_dias|vencido_acima_de_15_dias|carteira_ativa|carteira_inadimplida_arrastada|ativo_problematico|\n",
      "+----------+---+--------+---+-------+--------------------+----------+--------------+--------------------+-----------------+--------------------+----------+-------------------+--------------------+---------------------------+-----------------------------+------------------------------+------------------------------+---------------------------+------------------------+--------------+------------------------------+------------------+\n",
      "|2021-07-31| SP|Bancário| S1|     PF|PF - Empregado de...|         -|             -|PF - Mais de 3 a ...|PF - Habitacional|Com destinação es...|Pós-fixado|             207035|        614733561,40|              1714674773,00|                4010880003,13|                 3306781050,59|                 9576837776,64|              4301258879,41|             25195678,03|23550361722,20|                  235022747,14|      785944896,88|\n",
      "+----------+---+--------+---+-------+--------------------+----------+--------------+--------------------+-----------------+--------------------+----------+-------------------+--------------------+---------------------------+-----------------------------+------------------------------+------------------------------+---------------------------+------------------------+--------------+------------------------------+------------------+\n",
      "\n"
     ]
    }
   ],
   "source": [
    "df.show()"
   ]
  },
  {
   "cell_type": "code",
   "execution_count": 120,
   "metadata": {},
   "outputs": [],
   "source": [
    "df = df.withColumn('carteira_ativa', trim(regexp_replace(col('carteira_ativa'), ',', '.')).cast(DecimalType(20, 2)))"
   ]
  },
  {
   "cell_type": "code",
   "execution_count": 121,
   "metadata": {},
   "outputs": [
    {
     "name": "stdout",
     "output_type": "stream",
     "text": [
      "+----------+---+--------+---+-------+--------------------+----------+--------------+--------------------+-----------------+--------------------+----------+-------------------+--------------------+---------------------------+-----------------------------+------------------------------+------------------------------+---------------------------+------------------------+--------------+------------------------------+------------------+\n",
      "| data_base| uf|     tcb| sr|cliente|            ocupacao|cnae_secao|cnae_subclasse|               porte|       modalidade|              origem| indexador|numero_de_operacoes|a_vencer_ate_90_dias|a_vencer_de_91_ate_360_dias|a_vencer_de_361_ate_1080_dias|a_vencer_de_1081_ate_1800_dias|a_vencer_de_1801_ate_5400_dias|a_vencer_acima_de_5400_dias|vencido_acima_de_15_dias|carteira_ativa|carteira_inadimplida_arrastada|ativo_problematico|\n",
      "+----------+---+--------+---+-------+--------------------+----------+--------------+--------------------+-----------------+--------------------+----------+-------------------+--------------------+---------------------------+-----------------------------+------------------------------+------------------------------+---------------------------+------------------------+--------------+------------------------------+------------------+\n",
      "|2021-07-31| SP|Bancário| S1|     PF|PF - Empregado de...|         -|             -|PF - Mais de 3 a ...|PF - Habitacional|Com destinação es...|Pós-fixado|             207035|        614733561,40|              1714674773,00|                4010880003,13|                 3306781050,59|                 9576837776,64|              4301258879,41|             25195678,03|23550361722.20|                  235022747,14|      785944896,88|\n",
      "+----------+---+--------+---+-------+--------------------+----------+--------------+--------------------+-----------------+--------------------+----------+-------------------+--------------------+---------------------------+-----------------------------+------------------------------+------------------------------+---------------------------+------------------------+--------------+------------------------------+------------------+\n",
      "\n"
     ]
    }
   ],
   "source": [
    "df.show()"
   ]
  },
  {
   "cell_type": "code",
   "execution_count": 122,
   "metadata": {},
   "outputs": [
    {
     "name": "stdout",
     "output_type": "stream",
     "text": [
      "root\n",
      " |-- data_base: string (nullable = true)\n",
      " |-- uf: string (nullable = true)\n",
      " |-- tcb: string (nullable = true)\n",
      " |-- sr: string (nullable = true)\n",
      " |-- cliente: string (nullable = true)\n",
      " |-- ocupacao: string (nullable = true)\n",
      " |-- cnae_secao: string (nullable = true)\n",
      " |-- cnae_subclasse: string (nullable = true)\n",
      " |-- porte: string (nullable = true)\n",
      " |-- modalidade: string (nullable = true)\n",
      " |-- origem: string (nullable = true)\n",
      " |-- indexador: string (nullable = true)\n",
      " |-- numero_de_operacoes: string (nullable = true)\n",
      " |-- a_vencer_ate_90_dias: string (nullable = true)\n",
      " |-- a_vencer_de_91_ate_360_dias: string (nullable = true)\n",
      " |-- a_vencer_de_361_ate_1080_dias: string (nullable = true)\n",
      " |-- a_vencer_de_1081_ate_1800_dias: string (nullable = true)\n",
      " |-- a_vencer_de_1801_ate_5400_dias: string (nullable = true)\n",
      " |-- a_vencer_acima_de_5400_dias: string (nullable = true)\n",
      " |-- vencido_acima_de_15_dias: string (nullable = true)\n",
      " |-- carteira_ativa: string (nullable = true)\n",
      " |-- carteira_inadimplida_arrastada: string (nullable = true)\n",
      " |-- ativo_problematico: string (nullable = true)\n",
      "\n"
     ]
    }
   ],
   "source": [
    "df.printSchema()"
   ]
  }
 ],
 "metadata": {
  "kernelspec": {
   "display_name": "Python 3",
   "language": "python",
   "name": "python3"
  },
  "language_info": {
   "codemirror_mode": {
    "name": "ipython",
    "version": 3
   },
   "file_extension": ".py",
   "mimetype": "text/x-python",
   "name": "python",
   "nbconvert_exporter": "python",
   "pygments_lexer": "ipython3",
   "version": "3.10.12"
  }
 },
 "nbformat": 4,
 "nbformat_minor": 2
}
