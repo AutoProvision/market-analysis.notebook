{
 "cells": [
  {
   "cell_type": "code",
   "execution_count": 12,
   "metadata": {},
   "outputs": [],
   "source": [
    "%%capture\n",
    "%pip install pandas matplotlib requests fastparquet"
   ]
  },
  {
   "cell_type": "code",
   "execution_count": 13,
   "metadata": {},
   "outputs": [],
   "source": [
    "import pandas as pd\n",
    "import matplotlib.pyplot as plt"
   ]
  },
  {
   "cell_type": "code",
   "execution_count": 14,
   "metadata": {},
   "outputs": [],
   "source": [
    "df = pd.read_parquet('data/trusted/df.parquet')"
   ]
  },
  {
   "cell_type": "code",
   "execution_count": 15,
   "metadata": {},
   "outputs": [],
   "source": [
    "df = df[df['ct_classificacao'] == 'PF']"
   ]
  },
  {
   "cell_type": "code",
   "execution_count": 16,
   "metadata": {},
   "outputs": [
    {
     "data": {
      "text/plain": [
       "data_base                            datetime64[ns]\n",
       "ct_uf                                      category\n",
       "ct_tcb                                     category\n",
       "ct_sr                                      category\n",
       "ct_cliente                                 category\n",
       "ct_ocupacao                                category\n",
       "ct_cnae_secao                              category\n",
       "ct_cnae_subclasse                          category\n",
       "ct_porte                                     object\n",
       "ct_modalidade                              category\n",
       "ct_origem                                  category\n",
       "ct_indexador                               category\n",
       "nu_numero_de_operacoes                        int64\n",
       "vl_a_vencer_ate_90_dias                     float64\n",
       "vl_a_vencer_de_91_ate_360_dias              float64\n",
       "vl_a_vencer_de_361_ate_1080_dias            float64\n",
       "vl_a_vencer_de_1081_ate_1800_dias           float64\n",
       "vl_a_vencer_de_1801_ate_5400_dias           float64\n",
       "vl_a_vencer_acima_de_5400_dias              float64\n",
       "vl_vencido_acima_de_15_dias                 float64\n",
       "vl_carteira_ativa                           float64\n",
       "vl_carteira_inadimplida_arrastada           float64\n",
       "vl_ativo_problematico                       float64\n",
       "ct_classificacao                             object\n",
       "dtype: object"
      ]
     },
     "execution_count": 16,
     "metadata": {},
     "output_type": "execute_result"
    }
   ],
   "source": [
    "df.dtypes"
   ]
  },
  {
   "cell_type": "code",
   "execution_count": null,
   "metadata": {},
   "outputs": [],
   "source": []
  }
 ],
 "metadata": {
  "kernelspec": {
   "display_name": "Python 3",
   "language": "python",
   "name": "python3"
  },
  "language_info": {
   "codemirror_mode": {
    "name": "ipython",
    "version": 3
   },
   "file_extension": ".py",
   "mimetype": "text/x-python",
   "name": "python",
   "nbconvert_exporter": "python",
   "pygments_lexer": "ipython3",
   "version": "3.12.6"
  }
 },
 "nbformat": 4,
 "nbformat_minor": 2
}
